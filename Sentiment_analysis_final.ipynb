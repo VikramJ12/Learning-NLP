{
 "cells": [
  {
   "cell_type": "code",
   "execution_count": 7,
   "metadata": {},
   "outputs": [
    {
     "name": "stderr",
     "output_type": "stream",
     "text": [
      "[nltk_data] Downloading package stopwords to C:\\Users\\Vikram\n",
      "[nltk_data]     Jirgale/nltk_data...\n",
      "[nltk_data]   Unzipping corpora\\stopwords.zip.\n"
     ]
    }
   ],
   "source": [
    "#First we download or import all the required packages\n",
    "\n",
    "import pandas as pd\n",
    "import nltk\n",
    "import re\n",
    "import spacy\n",
    "nltk.download('stopwords')\n",
    "from nltk.corpus import stopwords\n",
    "#from nltk.stem.porter import PorterStemmer\n",
    "from sklearn.feature_extraction.text import CountVectorizer\n",
    "from sklearn.model_selection import train_test_split\n",
    "from sklearn.naive_bayes import MultinomialNB\n",
    "from sklearn.naive_bayes import BernoulliNB\n",
    "from sklearn.linear_model import LogisticRegression\n",
    "from sklearn.metrics import confusion_matrix\n",
    "from sklearn.metrics import accuracy_score\n",
    "from sklearn.metrics import precision_score\n",
    "from sklearn.metrics import recall_score\n",
    "eng = spacy.load('en_core_web_lg')"
   ]
  },
  {
   "cell_type": "code",
   "execution_count": 3,
   "metadata": {},
   "outputs": [
    {
     "data": {
      "text/html": [
       "<div>\n",
       "<style scoped>\n",
       "    .dataframe tbody tr th:only-of-type {\n",
       "        vertical-align: middle;\n",
       "    }\n",
       "\n",
       "    .dataframe tbody tr th {\n",
       "        vertical-align: top;\n",
       "    }\n",
       "\n",
       "    .dataframe thead th {\n",
       "        text-align: right;\n",
       "    }\n",
       "</style>\n",
       "<table border=\"1\" class=\"dataframe\">\n",
       "  <thead>\n",
       "    <tr style=\"text-align: right;\">\n",
       "      <th></th>\n",
       "      <th>Review</th>\n",
       "      <th>Liked</th>\n",
       "    </tr>\n",
       "  </thead>\n",
       "  <tbody>\n",
       "    <tr>\n",
       "      <th>0</th>\n",
       "      <td>Wow... Loved this place.</td>\n",
       "      <td>1</td>\n",
       "    </tr>\n",
       "    <tr>\n",
       "      <th>1</th>\n",
       "      <td>Crust is not good.</td>\n",
       "      <td>0</td>\n",
       "    </tr>\n",
       "    <tr>\n",
       "      <th>2</th>\n",
       "      <td>Not tasty and the texture was just nasty.</td>\n",
       "      <td>0</td>\n",
       "    </tr>\n",
       "    <tr>\n",
       "      <th>3</th>\n",
       "      <td>Stopped by during the late May bank holiday of...</td>\n",
       "      <td>1</td>\n",
       "    </tr>\n",
       "    <tr>\n",
       "      <th>4</th>\n",
       "      <td>The selection on the menu was great and so wer...</td>\n",
       "      <td>1</td>\n",
       "    </tr>\n",
       "  </tbody>\n",
       "</table>\n",
       "</div>"
      ],
      "text/plain": [
       "                                              Review  Liked\n",
       "0                           Wow... Loved this place.      1\n",
       "1                                 Crust is not good.      0\n",
       "2          Not tasty and the texture was just nasty.      0\n",
       "3  Stopped by during the late May bank holiday of...      1\n",
       "4  The selection on the menu was great and so wer...      1"
      ]
     },
     "execution_count": 3,
     "metadata": {},
     "output_type": "execute_result"
    }
   ],
   "source": [
    "#lets load a sample restaurant reviews dataset\n",
    "\n",
    "ds = pd.read_csv('Restaurant_Reviews.tsv',delimiter='\\t')\n",
    "ds.head()"
   ]
  },
  {
   "cell_type": "markdown",
   "metadata": {},
   "source": [
    "Lets make a corpus (words dataset) which will contain all the reviews in a format that can be easily analyzed. "
   ]
  },
  {
   "cell_type": "code",
   "execution_count": 8,
   "metadata": {},
   "outputs": [
    {
     "name": "stdout",
     "output_type": "stream",
     "text": [
      "['wow     love place', 'crust not good', 'not tasty texture nasty', 'stop late may bank holiday rick steve recommendation love', 'selection menu great price', 'get angry want damn pho', 'honeslty taste fresh  ', 'potato like rubber could tell make ahead time keep warm', 'fry great', 'great touch', 'service prompt', 'would not go back', 'cashier care ever say still end wayyy overpriced', 'try cape cod ravoli   chicken   cranberry    mmmm', 'disgusted pretty sure human hair', 'shocked sign indicate cash', 'highly recommend', 'waitress little slow service', 'place not worth time   let alone vegas', 'not like', 'burrittos blah', 'food   amazing', 'service also cute', 'could care less     interior beautiful', 'perform', 'right     red velvet cake      ohhh stuff good', '   never bring salad ask', 'hole wall great mexican street taco   friendly staff', 'take hour get food    table restaurant food luke warm   sever run around like totally overwhelmed', 'bad salmon sashimi', 'also combo like burger   fry   beer     decent deal', 'like final blow', 'find place accident could not happy', 'seem like good quick place grab bite familiar pub food   favor look elsewhere', 'overall   like place lot', 'redeeming quality restaurant inexpensive', 'ample portion good price', 'poor service   waiter make feel like stupid every time come table', 'first visit hiro delight', 'service suck', 'shrimp tender moist', 'not deal good enough would drag establishment', 'hard judge whether side good gross melt styrofoam want eat fear get sick', 'positive note   server attentive provide great service', 'frozen puck disgust   bad people behind register', 'thing like prime rib dessert section', 'bad food damn generic', 'burger good beef   cook right', 'want sandwich go firehouse     ', 'side greek salad greek dressing tasty   pita hummus refreshing', 'order duck rare pink tender inside nice char outside', 'come run we realize husband leave sunglass table', 'chow mein good', 'horrible attitude towards customer   talk one customer enjoy food', 'portion huge', 'love    friendly server   great food   wonderful imaginative menu', 'heart attack grill downtown vegas absolutely flat line excuse restaurant', 'not much seafood like    string pasta bottom', 'salad right amount sauce not power scallop   perfectly cook', 'rip banana not rip   petrified tasteless', 'least think refill water struggle wave     minute', 'place receive star appetizer   ', 'cocktail handmade delicious', 'definitely go back', 'glad find place', 'great food service   huge portion give military discount', 'always great time dos gringos', 'update      go back second time still amazing', 'get food apparently never hear salt batter fish chewy', 'great way finish great', 'deal include    tasting    drink   jeff go beyond expect', '   really   really good rice   time', 'service meh', 'take     min get milkshake   nothing chocolate milk', 'guess know place would suck   inside excalibur   use common sense', 'scallop dish quite appalling value well', '   time    bad customer service  ', 'sweet potato fry good seasoned well', 'today second time lunch buffet pretty good', 'much good food vegas feel cheat waste eat opportunity go rice company', 'come like experience underwhelming relationship party wait person ask break', 'walk place smell like old grease trap    other eat', 'turkey roast beef bland', 'place', 'pan cake everyone rave taste like sugary disaster tailor palate six year old', 'love pho spring roll oh yummy try', 'poor batter meat ratio make chicken tender unsatisfying', 'say food amazing   ', 'omelet die', 'everything fresh delicious', 'summary   largely disappointing dining experience', 'like really sexy party mouth   outrageously flirt hot person party', 'never hard rock casino   never ever step forward', 'good breakfast buffet   ', 'say bye bye tip lady', 'never go', 'back', 'food arrive quickly', 'not good', 'side   cafe serve really good food', 'server fantastic find wife love roasted garlic bone marrow   add extra meal another marrow go', 'good thing waiter   helpful keep bloddy mary come', 'good buffet town   price not beat', 'love mussel cook wine reduction   duck tender   potato dish delicious', 'one well buffet', 'go tigerlilly fantastic afternoon', 'food delicious   bartender attentive personable get great deal', 'ambience wonderful music play', 'go back next trip', 'sooooo good  ', 'real sushi lover   let honest    yama not good', 'least    min pass we order food arrive   busy', 'really fantastic thai restaurant definitely worth visit', 'nice   spicy tender', 'good price', 'check', 'pretty gross', 'well atmosphere', 'kind hard mess steak', 'although much like look sound place   actual experience bit disappointing', 'know place manage serve bland food ever eat prepare indian cuisine', 'bad service boot   least worry', 'service fine waitress friendly', 'guy steak   steak love son steak good bad place say good steak ever eat', 'think venture away get good sushi   place really hit spot night', 'host staff   lack well word   bitch', 'bland     not like place number reason want waste time bad review    leave   ', 'phenomenal food   service ambiance', 'return', 'definitely worth venture strip pork belly   return next time vegas', 'place way overpriced mediocre food', 'penne vodka excellent', 'good selection food include massive meatloaf sandwich   crispy chicken wrap   delish tuna melt tasty burger', 'management rude', 'delicious nyc bagel   good selection cream cheese   real lox caper even', 'great subway   fact good come every subway not meet expectation', 'seriously solid breakfast', 'one good bar food vegas', 'extremely rude really   many restaurant would love dine weekend vegas', 'drink never empty make really great menu suggestion', '   ', 'waiter helpful friendly rarely check we', 'husband eat lunch disappointed food service', 'red curry much bamboo shoot tasty', 'nice blanket moz top feel like do cover subpar food', 'bathroom clean place well decorate', 'menu always change   food quality go    service extremely slow', 'service little slow    consider serve    people server food come slow pace', 'give    thumb', 'watch waiter pay lot attention table ignore we', 'fianc   come middle day greet seat right away', 'great restaurant mandalay bay', 'wait forty five minute vain', 'crostini come salad stale', 'highlight    great quality nigiri', 'staff friendly joint always clean', 'different cut piece day still wonderful tender well well flavored', 'order voodoo pasta first time really excellent pasta since go gluten free several year ago', 'place good', 'unfortunately   must hit bakery leftover day everything order stale', 'come back today since relocate still not impressed', 'seat immediately', 'menu diverse   reasonably price', 'avoid cost', 'restaurant always full never wait', 'delicious  ', 'place hand one good place eat phoenix metro area', 'go look good food   ', 'never treat bad', 'bacon hella salty', 'also order spinach avocado salad   ingredient sad dressing literally zero taste', 'really vegas fine dining use   right menu hand lady price list', 'waitress friendly', 'lordy   khao soi dish not miss curry lover', 'everything menu terrific also thrilled make amazing accommodation vegetarian daughter', 'perhaps catch night judge review   not inspire go back', 'service leave lot desire', 'atmosphere modern hip   maintain touch coziness', 'not weekly haunt   definitely place come back every', 'literally sit     minute one ask take order', 'burger absolutely flavor    meat totally bland   burger overcook charcoal flavor', 'also decide not send back waitress look like verge heart attack', 'dress treat rudely', 'probably dirt', 'love place   hit spot want something healthy not lack quantity flavor', 'order lemon raspberry ice cocktail also incredible', 'food suck   expect suck could imagine', 'interesting decor', 'really like crepe station', 'also serve hot bread butter   home make potato chip bacon bit top     original good', 'watch prepare delicious food  ', 'egg roll fantastic', 'order arrive   one gyro miss', 'salad wing   ice cream dessert leave feel quite satisfied', 'not really sure joey vote well hot dog valley reader phoenix magazine', 'good place go tasty bowl pho', 'live music friday totally blow', 'never insult felt disrespect', 'friendly staff', 'worth drive', 'hear good thing place   exceed every hope could dream', 'food great serivce', 'warm beer help', 'great brunch spot', 'service friendly invite', 'good lunch spot', 'live since       first   last   time step foot place', 'bad experience ever', 'must night place', 'side delish    mix mushroom   yukon gold puree   white corn    beateous', 'bug never show would give    sure   side wall bug climb kitchen', '    minute   wait salad realize come time soon', 'friend love salmon tartar', 'go back', 'extremely tasty', 'waitress good though', 'soggy not good', 'jamaican mojito delicious', 'small not worth price', '   food rich order accordingly', 'shower area outside rinse   not take full shower   unless mind nude everyone see', 'service bit lack', 'lobster bisque   bussell sprout   risotto   filet need salt pepper   course none table', 'hopefully bode go business someone cook come', 'either cold   not enough flavor bad', 'love bacon wrap date', 'unbelievable bargain', 'folk otto always make we feel welcome special', '  main    also uninspired', 'place first pho amazing  ', 'wonderful experience make place must stop whenever town', 'food bad enough   enjoy deal world worst annoying drunk people', 'fun chef', 'order double cheeseburger    get single patty fall apart   picture upload   yeah   still suck', 'great place couple drink watch sport event wall cover tv', 'possible give zero star  ', 'description say   yum yum sauce   another say   eel sauce    yet another say   spicy mayo     well none roll sauce', 'say would hard decision     honestly   dish taste suppose taste   amazing  ', 'not roll eye may stay     not sure go back try', 'everyone attentive   provide excellent customer service', 'horrible    waste time money', 'dish quite flavourful', 'time side restaurant almost empty excuse', '  busy either   also   building freeze cold', 'like reviewer say   pay eat place  ', '  drink take close     minute come one point', 'seriously flavorful delight   folk', 'much well ayce sushi place go vegas', 'lighting dark enough set mood', 'base sub par service receive effort show gratitude business go back', 'owner really great people  ', 'nothing privileged work eat', 'greek dressing creamy flavorful', 'overall   think would take parent place make similar complaint silently feel', 'pizza good peanut sauce tasty', '   table service pretty fast', 'fantastic service', 'well would give godfather zero star possible', 'know make', 'tough short flavor', 'hope place stick around', 'bar vegas   not ever recall charge tap water', 'restaurant atmosphere exquisite', 'good service   clean   inexpensive   boot', 'seafood fresh generous portion', 'plus      buck', 'service not par   either', 'thus far   visit twice food absolutely delicious time', 'good year ago', 'self proclaim coffee cafe   wildly disappointed', 'veggitarian platter world', 'can not go wrong food', 'beat', 'stop place madison ironman   friendly   kind staff', 'chef friendly good job', 'well   not dedicated boba tea spot   even jenni pho', 'like patio service outstanding', 'goat taco skimp meat wow flavor', 'think not', 'mac salad pretty bland not get', 'go bachi burger friend recommendation not disappointed', 'service stink', 'wait wait', 'place not quality sushi   not quality restaurant', 'would definitely recommend wing well pizza', 'great pizza salad', 'thing go wrong     burn saganaki', 'wait hour breakfast could do      time well home', 'place amazing', 'hate disagree fellow yelper   husband disappointed place', 'wait    hour    never get either pizza many around we come later', 'know slow', 'staff great   food delish   incredible beer selection', 'live neighborhood disappointed back   convenient location', 'know pull pork could soooo delicious', 'get incredibly fresh fish   prepare care', 'go give    star rating please know third time eat bachi burger write review', 'love fact everything menu worth', 'never dine place', 'food excellent service good', 'good beer    drink selection good food selection', 'please stay away shrimp stir fried noodle', 'potato chip order sad     could probably count many chip box probably around    ', 'food really boring', 'good service check', 'greedy corporation never see another dime', 'never   ever go back', 'much like go back   get pass atrocious service never return', 'summer   dine charming outdoor patio    delightful', 'not expect good', 'fantastic food', 'order toasted english muffin come untoasted', 'food good', 'never go back', 'great food price   high quality house make', 'bus boy hand rude', 'point   friend basically figure place joke mind make publicly loudly know', 'back good bbq   light fare   reasonable pricing tell public back old way', 'consider two we leave full happy       go wrong', 'bread make house', 'downside service', 'also   fry without doubt bad fry ever', 'service exceptional food good review', 'couple month later   return amazing meal', 'favorite place town shawarrrrrrma      ', 'black eyed pea sweet potato     unreal', 'disappoint', 'could serve vinaigrette may make well overall dish   still good', 'go far many place never see restaurant serve    egg breakfast   especially       ', 'mom get home immediately get sick bite salad', 'server not pleasant deal always honor pizza hut coupon', 'truly unbelievably good   glad go back', 'fantastic service   pleased atmosphere', 'everything gross', 'love place', 'great service food', 'first    bathroom location dirty   seat cover not replenish    plain yucky   ', 'burger     get   gold standard        burger kind disappointed', 'omg   food delicioso', 'nothing authentic place', 'spaghetti nothing special whatsoever', 'dish   salmon good   great', 'vegetable fresh sauce feel like authentic thai', 'worth drive tucson', 'selection probably bad see vegas      none', 'pretty good beer selection', 'place like chipotle   well', 'classy warm atmosphere   fun fresh appetizer   succulent steak   baseball steak     ', '   star brick oven bread app', 'eat multiple time   time food delicious', 'sit another ten minute finally give leave', 'terrible', 'everyone treat equally special', 'take     min pancake egg', 'delicious   ', 'good side   staff genuinely pleasant enthusiastic    real treat', 'sadly   gordon ramsey steak place shall sharply avoid next trip vegas', 'always evening wonderful food delicious', 'good fish ever life', '  bathroom next door nice  ', 'buffet small food offer bland', 'outstanding little restaurant good food ever taste', 'pretty cool would say', 'definitely turn    doubt back unless someone else buy', 'server great job handle large rowdy table', 'find waste food despicable   food', 'wife lobster bisque soup lukewarm', 'would come back sushi craving vegas', 'staff great   ambiance great', 'deserve    star', 'leave stomach ache feel sick rest day', 'drop ball', 'dining space tiny   elegantly decorate comfortable', 'customize order way like   usual eggplant green bean stir fry   love', 'bean rice mediocre good', 'good taco town far  ', 'take back money get outta', 'interesting part town   place amazing', 'rude    inconsiderate management', 'staff not friendly   wait time serve horrible   one even say hi first     minute', 'back', 'great dinner', 'service outshine    definitely recommend halibut', 'food terrible', 'never ever go back tell many people happen', 'recommend unless car break front starve', 'come back every time vegas', 'place deserve one star      food', 'disgrace', 'def come back bowl next time', 'want healthy authentic ethic food   try place', 'continue come lady night andddd date night      highly recommend place anyone area', 'several time past   experience always great', 'walk away stuff happy first vegas buffet experience', 'service excellent price pretty reasonable consider vegas locate inside crystal shop mall aria', 'summarize     food incredible   nay   transcendant     nothing bring joy quite like memory pneumatic condiment dispenser', 'probably one people ever go ian not like', 'kid pizza always hit lot great side dish option kiddo', 'service perfect family atmosphere nice see', 'cook perfection service impeccable', 'one simply disappointment', 'overall   disappointed quality food bouchon', 'accountant know getting screw', 'great place eat   remind little mom pop shop san francisco bay area', 'today first taste buldogis gourmet hot dog tell ever think possible', 'leave frustrated', 'definitely soon', 'food really good get full petty fast', 'service fantastic', 'total waste time', 'know kind well iced tea', 'come hungry   leave happy stuff', 'service   give star', 'assure disappoint', 'take little bad service food suck', 'give try eat crust   tooth still sore  ', 'completely gross', 'really enjoy eat', 'first time go think quickly become regular', 'server nice   even though look little overwhelmed need   stay professional friendly end', 'dinner companion tell    everything fresh nice texture taste', 'ground   right next table large   smear   step track everywhere pile green bird poop', 'furthermore   even find hour operation website', 'try like place      time think do', 'mistake', 'complaint', 'seriously good pizza expert connisseur topic', 'waiter jerk', 'strike     want rush', 'nice restaurant owner ever come across', 'never come', 'love biscuit   ', 'service quick friendly', 'order appetizer take     minute pizza another     minute', 'absolutley fantastic', 'huge awkward     lb piece cow     th gristle fat', 'definitely come back', 'like steiner dark feel like bar', 'wow spicy delicious', 'not familiar   check', 'take business dinner dollar elsewhere', 'love go back', 'anyway   fs restaurant wonderful breakfast lunch', 'nothing special', 'day week different deal delicious', 'not mention combination pear   almond bacon big winner', 'not back', 'sauce tasteless', 'food delicious spicy enough   sure ask spicy prefer way', 'ribeye steak cook perfectly great mesquite flavor', 'think go back anytime soon', 'food gooodd', 'far sushi connoisseur definitely tell difference good food bad food certainly bad food', 'insulted', 'last    time lunch bad', 'chicken wing contain dry chicken meat ever eat', 'food good enjoy every mouthful   enjoyable relaxed venue couple small family group etc', 'nargile    think great', 'good tater tot southwest', 'love place', 'definitely not worth     pay', 'vanilla ice cream creamy smooth profiterole   choux   pastry fresh enough', 'az time new spot', 'manager bad', 'inside really quite nice clean', 'food outstanding price reasonable', 'think run back carly anytime soon food', 'due fact take     minute acknowledge   another     minute get food    keep forget thing', 'love margarita  ', 'first vegas buffet not disappoint', 'good   though', 'one note ventilation could use upgrading', 'great pork sandwich', 'waste time', 'total letdown   would much rather go camelback flower shop cartel coffee', 'third   cheese friend burger cold', 'enjoy pizza brunch', 'steak well trim also perfectly cook', 'group      claim would     handle we beautifully', 'love', 'ask bill leave without eat bring either', 'place jewel las vegas   exactly hope find nearly ten year live', 'seafood limit boil shrimp crab leg crab leg definitely not taste fresh', 'selection food not good', 'delicious absolutely back', 'small family restaurant   fine dining establishment', 'toro tartare cavier extraordinary like thinly slice wagyu white truffle', 'not think back long time', 'attach gas station   rarely good sign', 'awesome', 'back many time soon', 'menu much good stuff could not decide', 'bad   humiliate worker right front   bunch horrible name calling', 'conclusion   fill meal', 'daily special always hit group', 'tragedy strike', 'pancake also really good pretty large', 'first crawfish experience   delicious', 'monster chicken fry steak egg time favorite', 'waitress sweet funny', 'also taste mom multi grain pumpkin pancake pecan butter amazing   fluffy   delicious', 'rather eat airline food   seriously', 'can not say enough good thing place', 'ambiance incredible', 'waitress manager friendly', 'would not recommend place', 'overall impressed noca', 'gyro basically lettuce', 'terrible service', 'thoroughly disappoint', 'much pasta   love homemade   hand make pasta thin pizza', 'give try   happy', 'far good cheesecurd ever', 'reasonably price also', 'everything perfect night', 'food good typical bar food', 'drive get', 'first glance lovely bakery cafe    nice ambiance   clean   friendly staff', 'anyway   not think go back', 'point finger item menu   order disappoint', 'oh thing beauty   restaurant', 'go go', 'greasy   unhealthy meal', 'first time might last', 'burger amazing', 'similarly   delivery man not say word apology food     minute late', 'way expensive', 'sure order dessert   even need pack go    tiramisu cannoli die', 'first time wait next', 'bartender also nice', 'everything good tasty', 'place two thumb     way', 'good place vegas breakfast   check sat   sun', 'love authentic mexican food want whole bunch interesting   yet delicious meat choose   need try place', 'terrible management', 'excellent new restaurant experienced frenchman', 'zero star would give zero star', 'great steak   great side   great wine   amazing dessert', 'bad martini ever', 'steak shrimp opinion good entree gc', 'opportunity today sample amazing pizza', 'wait thirty minute seat   although    vacant table folk wait  ', 'yellowtail carpaccio melt mouth fresh', 'try go back even empty', '  go eat potato find stranger hair', 'spicy enough    perfect actually', 'last night second time dining happy decide go back', 'not even   hello   right  ', 'dessert bit strange', 'boyfriend come first time recent trip vegas could not pleased quality food service', 'really recommend place   go wrong donut place', 'nice ambiance', 'would recommend saving room', 'guess maybe go night disgraceful', 'however   recent experience particular location not good', 'know not like restaurant   something', 'avoid establishment', 'think restaurant suffer not try hard enough', 'tapas dish delicious', '  heart   place', 'salad bland vinegrette baby green heart palm', 'two feel disgusting', 'good time', 'believe place great stop huge belly hanker sushi', 'generous portion great taste', 'never go back place never ever recommend place anyone', 'server go back forth several time   not even much   help  ', 'food delicious', 'hour     seriously', 'consider theft', 'eew     location need complete overhaul', 'recently witness poor quality management towards guest well', 'wait wait wait', 'also come back check we regularly   excellent service', 'server super nice check we many time', 'pizza taste old   super chewy not good way', 'swing give try deeply disappointed', 'service good company well', 'staff also friendly efficient', 'service   fan   quick serve nice folk', 'boy sucker dry   ', 'rate', 'look authentic thai food   go else', 'steak       recommend', 'pull car wait another     minute acknowledge', 'great food great service clean friendly setting', '  assure back', 'hate thing much cheap quality black olive', 'breakfast perpare great   beautiful presentation    giant slice toast   lightly dust powdered sugar', 'kid play area nasty', 'great place fo take eat', 'waitress friendly happy accomodate vegan veggie option', 'omg feel like never eat thai food dish', 'extremely   crumby   pretty tasteless', 'pale color instead nice char flavor', 'crouton also taste homemade extra plus', 'get home see dry damn wing ever', 'regular stop trip phoenix', 'really enjoy crema caf   expand   even tell friend good breakfast', 'not good money', 'miss wish one philadelphia', 'get sit fairly fast     end wait     minute place order   another     minute food arrive', 'also good cheese crisp town', 'good value   great food   great service', 'ask satisfying meal', 'food good', 'awesome', 'want leave', 'make drive way north scottsdale     not one bit disappointed', 'not eat', '      owner really really need quit soooooo cheap let wrap freak sandwich two paper not one', 'check place couple year ago not impressed', 'chicken get definitely reheat ok   wedge cold soggy', 'sorry   not get food anytime soon   ', 'absolute must visit', 'cow tongue cheek taco amazing', 'friend not like bloody mary', 'despite hard rate business   actually rare give    star', 'really want make experience good one', 'not return', 'chicken pho taste bland', 'disappointing   ', 'grill chicken tender yellow saffron seasoning', 'drive thru mean not want wait around half hour food   somehow end go make we wait wait', 'pretty awesome place', 'ambience perfect', 'good luck rude non customer service focus new management', 'grandmother make roasted chicken well one', 'ask multiple time wine list time ignore go hostess get one', 'staff always super friendly helpful   especially cool bring two small boy baby', 'four star food    guy blue shirt great vibe    still let we eat  ', 'roast beef sandwich taste really good', 'evening   drastically sick', 'high quality chicken chicken caesar salad', 'order burger rare come do', 'promptly greet seat', 'try go lunch madhouse', 'prove dead wrong sushi bar   not quality great   service fast food   impeccable', 'wait hour seat   not great mood', 'good joint', 'macaron insanely good', 'not eat', 'waiter attentive   friendly   informative', 'maybe cold would somewhat edible', 'place lot promise fail deliver', 'bad experience', 'mistake', 'food average good', 'great food', 'go back anytime soon', 'disappointed order      big bay plater', 'great place relax awesome burger beer', 'perfect sit family meal get together friend', 'not much flavor   poorly construct', 'patio seating comfortable', 'fry rice dry well', 'hand favorite italian restaurant', 'scream   legit   book    somethat also pretty rare vegas', 'not fun experience', 'atmosphere great lovely duo violinist play song request', 'personally love hummus   pita   baklava   falafels baba ganoush   amazing eggplant   ', 'convenient   since stay mgm', 'owner super friendly staff courteous', 'great', 'eclectic selection', 'sweet potato tot good onion ring perfection close', 'staff attentive', 'chef generous time   even come around twice take picture  ', 'owner use work nobu   place really similar half price', 'google mediocre imagine smashburger pop', 'not go', 'promise disappoint', 'sushi lover avoid place mean', 'great double cheeseburger', 'awesome service food', 'fantastic neighborhood gem    ', 'wait go back', 'plantain bad ever taste', 'great place highly recommend', 'service slow not attentive', 'give    star   give    star', 'staff spend time talk', 'dessert   panna cotta amazing', 'good food   great atmosphere  ', 'damn good steak', 'total brunch fail', 'price reasonable   flavor spot   sauce home make   slaw not drench mayo', 'decor nice   piano music soundtrack pleasant', 'steak amazing    rge fillet relleno good seafood plate ever', 'good food    good service  ', 'absolutely amazing', 'probably back   honest', 'definitely back', 'sergeant pepper beef sandwich auju sauce excellent sandwich well', 'hawaiian breeze   mango magic   pineapple delight smoothie try far good', 'go lunch    service slow', 'much say place walk expect amazing   quickly disappointed', 'mortify', 'needless say   never back', 'anyways   food definitely not fill   price pay expect', 'chip come drip grease   mostly not edible', 'really impressed strip steak', 'go since       every meal awesome  ', 'server nice attentive serve staff', 'cashier friendly even bring food', 'work hospitality industry paradise valley refrain recommend cibo long', 'atmosphere fun', 'would not recommend other', 'service quick even   go   order like like', 'mean really   get famous fish chip terrible   ', 'say   mouth belly still quite pleased', 'not thing', '   thumb  ', 'read please go', 'love grill pizza   remind legit italian pizza', 'pro    large seating area   nice bar area   great simple drink menu   good brick oven pizza homemade dough', 'really nice atmosphere', 'tonight elk filet special    suck', 'one bite   hook', 'order old classic new dish go time sorely disappointed everything', 'cute   quaint   simple   honest', 'chicken deliciously seasoned perfect fry outside moist chicken inside', 'food great always   compliment chef', 'special thank dylan   recommendation order     yummy tummy', 'awesome selection beer', 'great food awesome service', 'one nice thing add gratuity bill since party large        expect tip', 'fly apple juice    fly        ', 'han nan chicken also tasty', 'service   think good', 'food barely lukewarm   must sit wait server bring we', 'ryan bar definitely one edinburgh establishment revisit', 'nice chinese restaurant', 'overall   like food service', 'also serve indian naan bread hummus spicy pine nut sauce world', 'probably never come back   recommend', 'friend pasta     also bad   barely touch', 'try airport experience tasty food speedy   friendly service', 'love decor chinese calligraphy wall paper', 'never anything complain', 'restaurant clean family restaurant feel', 'way fry', 'not sure long stand long enough begin feel awkwardly place', 'open sandwich   impressed   not good way', 'not back', 'warm feeling service feel like guest special treat', 'extensive menu provide lot option breakfast', 'always order vegetarian menu dinner   wide array option choose', 'watch price inflate   portion get small management attitude grow rapidly', 'wonderful lil tapas ambience make feel warm fuzzy inside', 'get enjoy seafood salad   fabulous vinegrette', 'wonton thin   not thick chewy   almost melt mouth', 'level    spicy perfect   spice whelm soup', 'sit right time server get go fantastic', 'main thing enjoy crowd old crowd   around mid   ', 'side town   definitely spot hit', 'wait     minute get drink long get    arepas', 'great place eat', 'jalapeno bacon soooo good', 'service poor nice', 'food good   service good   price good', 'place not clean food oh stale', 'chicken dish ok   beef like shoe leather', 'service beyond bad', 'happy    ', 'taste like dirt', 'one place phoenix would definately go back  ', 'block amazing', 'close house   low key   non fancy   affordable price   good food', '   hot    sour    egg flower soup absolutely    star', 'sashimi poor quality soggy tasteless', 'great time    family dinner sunday night', 'food not tasty   not say   real traditional hunan style  ', 'bother   slow service', 'flair bartender absolutely amazing', 'frozen margarita way sugary taste', 'good order twice', 'nutshell      restaraunt smell like combination dirty fish market sewer', 'girlfriend veal bad', 'unfortunately   not good', 'pretty satifying experience', 'join club get awesome offer via email', 'perfect someone     like beer ice cold   case   even cold', 'bland flavorless good way describe barely tepid meat', 'chain   fan   beat place easily', 'nachos must', 'not come back', 'many word say place   everything pretty well', 'staff super nice quick even crazy crowd downtown jury   lawyer   court staff', 'great atmosphere   friendly fast service', 'receive pita huge lot meat thumb', 'food arrive meh', 'pay        hot dog fry look like come kid meal wienerschnitzel not idea good meal', 'classic maine lobster roll fantastic', 'brother law work mall eat day   guess sick night', 'good go review place twice    herea tribute place tribute event hold last night', 'chip salsa really good   salsa fresh', 'place great              ', 'mediocre food', 'get inside impress place', 'super pissd', 'service super friendly', 'sad little vegetable overcooked', 'place nice surprise', 'golden crispy delicious', 'high hope place since burger cook charcoal grill   unfortunately taste fall flat   way flat', 'could eat bruschetta day devine', 'not single employee come see ok even need water refill finally serve we food', 'lastly   mozzarella stick   good thing order', 'first time ever come amazing experience   still tell people awesome duck', 'server negligent need make we feel unwelcome     would not suggest place', 'service terrible though', 'place overprice   not consistent boba   really overprice', 'pack  ', 'love place', 'say dessert yummy', 'food terrible', 'seasonal fruit fresh white peach puree', 'keep get bad bad officially do', 'place honestly blow', 'definitely would not eat', 'not waste money', 'love put food nice plastic container oppose cram little paper takeout box', 'cr pe delicate thin moist', 'awful service', 'ever go', 'food quality horrible', 'price think place would much rather go', 'service fair good', 'love sushi   find kabuki price   hip service', 'favor stay away dish', 'poor service', 'one table think food average worth wait', 'good service food ever   maria server good friendly make day', 'excellent', 'pay bill not tip feel server terrible job', 'lunch great experience', 'never bland food surprise consider article read focus much spice flavor', 'food way overpriced portion fuck small', 'recently try caballero back every week since', '    buck head   really expect well food', 'food come good pace', 'eat twice last visit   especially enjoy salmon salad', 'back', 'could not believe dirty oyster', 'place deserve star', 'would not recommend place', 'fact go round    star   awesome', 'disbelief   dish qualified bad version food ever taste', 'bad day not   low tolerance rude customer service people   job nice polite   wash dish otherwise  ', 'potato great biscuit', 'probably would not go', 'flavorful perfect amount heat', 'price reasonable service great', 'wife hate meal   coconut shrimp    friend really not enjoy meal   either', 'fella get huevos rancheros look appealing', 'go happy hour   great list wine', 'may say buffet pricey think get pay place get quite lot', 'probably come back', 'bad food service', 'place pretty good   nice little vibe restaurant', 'talk great customer service course back', 'hot dish not hot   cold dish close room temp watch staff prepare food bare hand   glove everything deep fry oil', 'love fry bean', 'always pleasure deal', 'plethora salad sandwich   everything try get seal approval', 'place awesome want something light healthy summer', 'sushi strip   place go', 'service great   even manager come help table', 'feel dining room college cooking course high class dining service slow good', 'start review two star   edit give one', 'bad sushi ever eat besides costco', 'excellent restaurant highlight great service   unique menu   beautiful setting', 'boyfriend sit bar completely delightful experience', 'weird vibe owner', 'hardly meat', 'well bagel grocery store', 'go place gyro', 'love owner chef   one authentic japanese cool dude', 'burger good   pizza use amazing doughy flavorless', 'find six inch long piece wire salsa', 'service terrible   food mediocre', 'definately enjoy', 'order albondigas soup    warm    taste like tomato soup frozen meatball', 'three different occasion ask well do medium well   three time get bloody piece meat plate', 'two bite refuse eat anymore', 'service extremely slow', '    minute wait   get table', 'seriously killer hot chai latte', 'allergy warning menu   waitress absolutely clue meal not contain peanut', 'boyfriend try mediterranean chicken salad fall love', 'rotate beer tap also highlight place', 'pricing bit concern mellow mushroom', 'bad thai ever', 'stay vegas must get breakfast least', 'want first say server great perfect service', 'pizza selection good', 'strawberry tea   good', 'highly unprofessional rude loyal patron', 'overall   great experience', 'spend money elsewhere', 'regular toasted bread equally satisfying occasional pat butter     mmmm    ', 'buffet bellagio far anticipate', 'drink weak   people', '  order not correct', 'also   feel like chip buy   not make house', 'disappointing dinner go elsewhere dessert', 'chip sal amazing                   ', 'return', 'new fav vegas buffet spot', 'seriously not believe owner many unexperienced employee run around like chicken head cut', '  sad', 'feel insult disrespect   could talk judge another human like', 'call steakhouse properly cook steak   understand', 'not impressed concept food', 'thing crazy guacamole like pur ed', 'really nothing postinos   hope experience well', 'get food poisoning buffet', 'bring fresh batch fry think yay something warm', 'hilarious   yummy christmas eve dinner remember big fail entire trip we', 'needless say   go back anytime soon', 'place disgusting', 'every time eat   see care teamwork professional degree', 'ri style calamari joke', 'however   much garlic fondue   barely edible', 'could barely stomach meal   complain business lunch', 'bad   lose heart finish', 'also take forever bring we check ask', 'one make scene restaurant get    definitely lose love one', 'disappointing experience', 'food par denny   say   not good', 'want wait mediocre food downright terrible service   place', 'waaaaaayyyyyyyyyy rate say', 'go back', 'place fairly clean food simply worth', 'place lack style  ', 'sangria half glass wine full       ridiculous', 'bother come', 'meat pretty dry   slice brisket pull pork', 'building seem pretty neat   bathroom pretty trippy   eat', 'equally awful', 'probably not hurry go back', 'slow seating even reservation', 'not good stretch imagination', 'cashew cream sauce bland vegetable undercooke', 'chipolte ranch dip sause tasteless   seem thin water heat', 'bit sweet   not really spicy enough   lack flavor', 'disappointed  ', 'place horrible way overpriced', 'maybe vegetarian fare   twice think average good', 'busy know', 'table outside also dirty lot time worker not always friendly helpful menu', 'ambiance not feel like buffet set   douchey indoor garden tea biscuit', 'con   spotty service', 'fry not hot   neither burger', 'come back cold', 'food come   disappointment ensue', 'real disappointment waiter', 'husband say rude     not even apologize bad food anything', 'reason eat would fill night binge drink get carb stomach', 'insult   profound deuchebaggery   go outside smoke break serve solidify', 'someone order two taco   think may part customer service ask combo ala cart', 'quite disappointed although blame need place door', 'rave review wait eat       disappointment', 'del taco pretty nasty avoid possible', 'not hard make decent hamburger', 'like', 'hell go back', 'get much well service pizza place next door service receive restaurant', 'know big deal place   back   ya  ', 'immediately say want talk manager not want talk guy shot fireball behind bar', 'ambiance much well', 'unfortunately   set we disapppointment entree', 'food good', 'server suck   wait   correction   server heimer suck', 'happen next pretty     put', 'bad cause know family own   really want like place', 'overpriced get', 'vomit bathroom mid lunch', 'keep look time soon become     minute   yet still food', 'place eat circumstance would ever return   top list', 'start tuna sashimi brownish color obviously fresh', 'food average', 'sure beat nacho movie would expect little bit come restaurant', '  ha long bay bit flop', 'problem charge         sandwich big subway sub   offer well amount vegetable  ', 'shrimp   unwrap   live      mile brushfire   literally ice cold', 'lack flavor   seem undercooked   dry', 'really impressive place close', 'would avoid place stay mirage', 'refrie bean come meal dry crusty food bland', 'spend money time place else', 'lady table next we find live green caterpillar salad', 'presentation food awful', 'tell disappointed', 'think food flavor texture lack', 'appetite instantly go', 'overall not impressed would not go back', 'whole experience underwhelme   think go ninja sushi next time', '  waste enough life   pour salt wound draw time take bring check']\n"
     ]
    }
   ],
   "source": [
    "# Create an empty corpus\n",
    "corpus_spacy = []\n",
    "for i in ds['Review']:\n",
    "    review = re.sub('[^a-zA-z]',' ',i)\n",
    "    \n",
    "    # Convert all words in the corpus to lower case so that it can be easily analyzed\n",
    "    review = review.lower()\n",
    "\n",
    "    # Load the stopwords (words that dont carry much meaning in NLP context)\n",
    "    stwords = stopwords.words('english')\n",
    "\n",
    "    # We cannot remove the word 'not' from the list of stop words as not carries significant meaning\n",
    "    stwords.remove(\"not\")\n",
    "\n",
    "    # Load only the reviews in the corpus\n",
    "\n",
    "    review = eng(review)\n",
    "    \n",
    "    #  Remove the stop words\n",
    "    # here we also convert words into their base form (lematization) so they are not considered different\n",
    "    # EG: loved, love, and loving will all be coverted to love.\n",
    "    # We use token.lemma_ func for this\n",
    "    \n",
    "    review = [token.lemma_ for token in review if str(token) not in stwords]  \n",
    "    review = ' '.join(review)\n",
    "    corpus_spacy.append(review)\n",
    "print(corpus_spacy)"
   ]
  },
  {
   "cell_type": "code",
   "execution_count": 14,
   "metadata": {},
   "outputs": [
    {
     "name": "stdout",
     "output_type": "stream",
     "text": [
      "Number of rows in panda dataframe=  1000\n",
      "Number of entries in corpus =  1000\n"
     ]
    }
   ],
   "source": [
    "# Lets check whether there was any data loss during the process:\n",
    "\n",
    "# Columns in data frame\n",
    "print(\"Number of rows in panda dataframe= \",len(ds))\n",
    "print(\"Number of entries in corpus = \", len(corpus_spacy))\n"
   ]
  },
  {
   "cell_type": "markdown",
   "metadata": {},
   "source": [
    "Now we are done with text form of the data. Machines cannot understand words but they can understand data in numerical form.\n",
    "We will thus use a Vectorizer method to convert this textual data into word vectors.\n",
    "\n",
    "The method will assign unique vector value to each word.\n"
   ]
  },
  {
   "cell_type": "code",
   "execution_count": 15,
   "metadata": {},
   "outputs": [],
   "source": [
    "cv = CountVectorizer()\n",
    "X = cv.fit_transform(corpus_spacy).toarray()\n",
    "y = ds.iloc[:,1].values"
   ]
  },
  {
   "cell_type": "markdown",
   "metadata": {},
   "source": [
    "The words will be first compared with a pre-existing dataset of words and their assigned vector values.\n"
   ]
  },
  {
   "cell_type": "markdown",
   "metadata": {},
   "source": [
    "Let's train the model to predict sentiment value of the reviews and \n",
    "compare it with preassigned values to calculate the accuracy and precision."
   ]
  },
  {
   "cell_type": "code",
   "execution_count": 18,
   "metadata": {},
   "outputs": [],
   "source": [
    "# Training and testing data split\n",
    "\n",
    "X_train, X_test, y_train, y_test = train_test_split(X, y, test_size=0.20, random_state=42)"
   ]
  },
  {
   "cell_type": "code",
   "execution_count": 19,
   "metadata": {},
   "outputs": [
    {
     "name": "stdout",
     "output_type": "stream",
     "text": [
      "Confusion Matrix:\n",
      " [[82 14]\n",
      " [30 74]]\n",
      "\n",
      "\n",
      "Accuracy is  78.0 %\n",
      "Precision is  0.84\n"
     ]
    }
   ],
   "source": [
    "# We will use a Logistic regression model from Scikit\n",
    "\n",
    "# classifier is our model\n",
    "classifier = LogisticRegression()\n",
    "classifier.fit(X_train, y_train)\n",
    "\n",
    "y_pred = classifier.predict(X_test)\n",
    "\n",
    "# Lets calculate the confusion matrix for the data:\n",
    "\n",
    "cm = confusion_matrix(y_test, y_pred)\n",
    "print (\"Confusion Matrix:\\n\",cm)\n",
    "\n",
    "#accuracy\n",
    "score1 = accuracy_score(y_test,y_pred)\n",
    "#precision\n",
    "score2 = precision_score(y_test,y_pred)\n",
    "\n",
    "print(\"\\n\")\n",
    "print(\"Accuracy is \",round(score1*100,2),\"%\")\n",
    "print(\"Precision is \",round(score2,2))\n"
   ]
  },
  {
   "cell_type": "markdown",
   "metadata": {},
   "source": [
    "We got a 78 % accuracy, which is pretty good. Lets check the  results of the model by checking the accuracy and prediction with a small new data\n",
    "\n",
    "To check how spacy helps us in preprocessing and hence machine learning,\n",
    "\n",
    "We will first conduct the test with un_processed data then with processed data."
   ]
  },
  {
   "cell_type": "code",
   "execution_count": 23,
   "metadata": {},
   "outputs": [
    {
     "data": {
      "text/plain": [
       "array([1, 0, 0, 0], dtype=int64)"
      ]
     },
     "execution_count": 23,
     "metadata": {},
     "output_type": "execute_result"
    }
   ],
   "source": [
    "new_dataset = ['Food was really good!','I am loving it','I hate waiting in this restaurant','Food was greasy']\n",
    "new_trans = cv.transform(new_dataset)\n",
    "classifier.predict(new_trans)"
   ]
  },
  {
   "cell_type": "markdown",
   "metadata": {},
   "source": [
    "As you can see the first 2 statements were positive but we got the prediction for second statement wrong.\n",
    "\n",
    "Now lets try using spaCy"
   ]
  },
  {
   "cell_type": "code",
   "execution_count": 25,
   "metadata": {},
   "outputs": [
    {
     "name": "stdout",
     "output_type": "stream",
     "text": [
      "['food really good', 'love', 'hate wait restaurant', 'food greasy']\n"
     ]
    }
   ],
   "source": [
    "# Lets create an empty doc object\n",
    "test_spacy = []\n",
    "\n",
    "#repeat the preprocessing we did for original dataset\n",
    "for i in new_dataset:\n",
    "    review = re.sub('[^a-zA-z]',' ',i)\n",
    "    review = review.lower()\n",
    "    stwords = stopwords.words('english')\n",
    "    stwords.remove(\"not\")\n",
    "    review = eng(review)\n",
    "    review = [token.lemma_ for token in review if str(token) not in stwords]\n",
    "    review = ' '.join(review)\n",
    "    test_spacy.append(review)\n",
    "print(test_spacy)"
   ]
  },
  {
   "cell_type": "markdown",
   "metadata": {},
   "source": [
    "Lets check the results:"
   ]
  },
  {
   "cell_type": "code",
   "execution_count": 26,
   "metadata": {},
   "outputs": [
    {
     "data": {
      "text/plain": [
       "array([1, 1, 0, 0], dtype=int64)"
      ]
     },
     "execution_count": 26,
     "metadata": {},
     "output_type": "execute_result"
    }
   ],
   "source": [
    "new_trans = cv.transform(test_spacy)\n",
    "classifier.predict(new_trans)"
   ]
  },
  {
   "cell_type": "markdown",
   "metadata": {},
   "source": [
    "SpaCy gave us the accurate / better output "
   ]
  },
  {
   "cell_type": "markdown",
   "metadata": {},
   "source": [
    "Conclusion:\n",
    "\n",
    "To recap we did the following steps today:\n",
    "\n",
    "1) Load a sample text data-base which consists of reviews and their sentiment values in the form 1 = positive, 0 = negative\n",
    "2) Preprocess this dataset using spacy and converting into a doc object through a spaCy pipeline\n",
    "3) Use this data as the input for a machine learning model using Scikit\n",
    "4) Test the accuracy and precision of these predictions\n",
    "5) Test the model with a new unforeseen data-set, first without preprocessing and with preprocessing\n",
    "\n",
    "SpaCy is a very usefull package which provides us with industry grade NLP techniques and tools.\n",
    "Spacy can provide with many useful methods like tokenization, lematization ets through its use of pipelines.\n",
    "Test data preprocessed with SpaCy is better data for training and testing purposes for a ML model.  "
   ]
  }
 ],
 "metadata": {
  "kernelspec": {
   "display_name": "base",
   "language": "python",
   "name": "python3"
  },
  "language_info": {
   "codemirror_mode": {
    "name": "ipython",
    "version": 3
   },
   "file_extension": ".py",
   "mimetype": "text/x-python",
   "name": "python",
   "nbconvert_exporter": "python",
   "pygments_lexer": "ipython3",
   "version": "3.11.3"
  }
 },
 "nbformat": 4,
 "nbformat_minor": 2
}
