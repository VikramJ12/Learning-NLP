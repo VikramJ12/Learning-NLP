{
 "cells": [
  {
   "cell_type": "code",
   "execution_count": 1,
   "id": "35cea37c-d523-4726-b374-53a84ebfb101",
   "metadata": {
    "tags": []
   },
   "outputs": [
    {
     "name": "stdout",
     "output_type": "stream",
     "text": [
      "Finished.\n"
     ]
    },
    {
     "name": "stderr",
     "output_type": "stream",
     "text": [
      "[nltk_data] Error loading brown: <urlopen error [WinError 10054] An\n",
      "[nltk_data]     existing connection was forcibly closed by the remote\n",
      "[nltk_data]     host>\n",
      "[nltk_data] Downloading package punkt to C:\\Users\\Vikram\n",
      "[nltk_data]     Jirgale/nltk_data...\n",
      "[nltk_data]   Unzipping tokenizers\\punkt.zip.\n",
      "[nltk_data] Downloading package wordnet to C:\\Users\\Vikram\n",
      "[nltk_data]     Jirgale/nltk_data...\n",
      "[nltk_data] Error downloading 'wordnet' from\n",
      "[nltk_data]     <https://raw.githubusercontent.com/nltk/nltk_data/gh-\n",
      "[nltk_data]     pages/packages/corpora/wordnet.zip>:   <urlopen error\n",
      "[nltk_data]     [WinError 10054] An existing connection was forcibly\n",
      "[nltk_data]     closed by the remote host>\n",
      "[nltk_data] Downloading package averaged_perceptron_tagger to\n",
      "[nltk_data]     C:\\Users\\Vikram Jirgale/nltk_data...\n",
      "[nltk_data]   Unzipping taggers\\averaged_perceptron_tagger.zip.\n",
      "[nltk_data] Downloading package conll2000 to C:\\Users\\Vikram\n",
      "[nltk_data]     Jirgale/nltk_data...\n",
      "[nltk_data]   Unzipping corpora\\conll2000.zip.\n",
      "[nltk_data] Downloading package movie_reviews to C:\\Users\\Vikram\n",
      "[nltk_data]     Jirgale/nltk_data...\n",
      "[nltk_data] Error downloading 'movie_reviews' from\n",
      "[nltk_data]     <https://raw.githubusercontent.com/nltk/nltk_data/gh-\n",
      "[nltk_data]     pages/packages/corpora/movie_reviews.zip>:   <urlopen\n",
      "[nltk_data]     error [WinError 10054] An existing connection was\n",
      "[nltk_data]     forcibly closed by the remote host>\n"
     ]
    }
   ],
   "source": [
    "import spacy\n",
    "#!pip install spacytextblob\n",
    "!python -m textblob.download_corpora"
   ]
  },
  {
   "cell_type": "code",
   "execution_count": 2,
   "id": "be1f714c-ebb8-4575-baf0-926cae052855",
   "metadata": {
    "tags": []
   },
   "outputs": [],
   "source": [
    "nlp = spacy.load(\"en_core_web_sm\")"
   ]
  },
  {
   "cell_type": "code",
   "execution_count": 4,
   "id": "de3b9ac6-3084-415c-9c0c-a69007cabd2a",
   "metadata": {
    "tags": []
   },
   "outputs": [
    {
     "name": "stdout",
     "output_type": "stream",
     "text": [
      "Five score years ago, a great American, in whose symbolic shadow we stand today, signed the Emancipation Proclamation. This momentous decree came as a great beacon light of hope to millions of Negro slaves who had been seared in the flames of withering injustice. It came as a joyous daybreak to end the long night of their captivity.\n",
      "\n",
      "But 100 years later, the Negro still is not free. One hundred years later, the life of the Negro is still sadly crippled by the manacles of segregation and the chains of discrimination. One hundred years later, the Negro lives on a lonely island of poverty in the midst of a vast ocean of material prosperity. One hundred years later the Negro is still languished in the corners of American society and finds himself in exile in his own land. And so we've come here today to dramatize a shameful condition. In a sense we've come to our nation's capital to cash a check.\n",
      "\n",
      "The Power Of Martin Luther King Jr.'s Anger\n",
      "CODE SWITCH\n",
      "The Power Of Martin Luther King Jr.'s Anger\n",
      "When the architects of our republic wrote the magnificent words of the Constitution and the Declaration of Independence, they were signing a promissory note to which every American was to fall heir. This note was a promise that all men — yes, Black men as well as white men — would be guaranteed the unalienable rights of life, liberty and the pursuit of happiness.\n",
      "\n",
      "It is obvious today that America has defaulted on this promissory note insofar as her citizens of color are concerned. Instead of honoring this sacred obligation, America has given the Negro people a bad check, a check which has come back marked insufficient funds.\n",
      "\n",
      "But we refuse to believe that the bank of justice is bankrupt.\n",
      "\n",
      "We refuse to believe that there are insufficient funds in the great vaults of opportunity of this nation. And so we've come to cash this check, a check that will give us upon demand the riches of freedom and the security of justice.\n",
      "\n",
      "We have also come to his hallowed spot to remind America of the fierce urgency of now. This is no time to engage in the luxury of cooling off or to take the tranquilizing drug of gradualism.\n",
      "\n",
      "\n",
      "Civil rights protesters march from the Washington Monument to the Lincoln Memorial for the March on Washington on Aug. 28, 1963.\n",
      "Kurt Severin/Three Lions/Hulton Archive/Getty Images\n",
      "Now is the time to make real the promises of democracy. Now is the time to rise from the dark and desolate valley of segregation to the sunlit path of racial justice. Now is the time to lift our nation from the quick sands of racial injustice to the solid rock of brotherhood. Now is the time to make justice a reality for all of God's children.\n",
      "\n",
      "It would be fatal for the nation to overlook the urgency of the moment. This sweltering summer of the Negro's legitimate discontent will not pass until there is an invigorating autumn of freedom and equality. 1963 is not an end, but a beginning. Those who hope that the Negro needed to blow off steam and will now be content will have a rude awakening if the nation returns to business as usual.\n",
      "\n",
      "There will be neither rest nor tranquility in America until the Negro is granted his citizenship rights. The whirlwinds of revolt will continue to shake the foundations of our nation until the bright day of justice emerges.\n",
      "\n",
      "But there is something that I must say to my people who stand on the warm threshold which leads into the palace of justice. In the process of gaining our rightful place, we must not be guilty of wrongful deeds. Let us not seek to satisfy our thirst for freedom by drinking from the cup of bitterness and hatred.\n",
      "\n",
      "Bayard Rustin: The Man Behind the March on Washington (2021) \n",
      "THROUGHLINE\n",
      "Bayard Rustin: The Man Behind the March on Washington (2021)\n",
      "We must forever conduct our struggle on the high plane of dignity and discipline. We must not allow our creative protest to degenerate into physical violence. Again and again, we must rise to the majestic heights of meeting physical force with soul force. The marvelous new militancy which has engulfed the Negro community must not lead us to a distrust of all white people, for many of our white brothers, as evidenced by their presence here today, have come to realize that their destiny is tied up with our destiny.\n",
      "\n",
      "And they have come to realize that their freedom is inextricably bound to our freedom. We cannot walk alone. And as we walk, we must make the pledge that we shall always march ahead. We cannot turn back.\n",
      "\n",
      "There are those who are asking the devotees of civil rights, when will you be satisfied? We can never be satisfied as long as the Negro is the victim of the unspeakable horrors of police brutality. We can never be satisfied as long as our bodies, heavy with the fatigue of travel, cannot gain lodging in the motels of the highways and the hotels of the cities.\n",
      "\n",
      "We cannot be satisfied as long as the Negro's basic mobility is from a smaller ghetto to a larger one. We can never be satisfied as long as our children are stripped of their selfhood and robbed of their dignity by signs stating: for whites only.\n",
      "\n",
      "We cannot be satisfied as long as a Negro in Mississippi cannot vote and a Negro in New York believes he has nothing for which to vote.\n",
      "\n",
      "No, no, we are not satisfied, and we will not be satisfied until justice rolls down like waters, and righteousness like a mighty stream.\n",
      "\n",
      "How The Voting Rights Act Came To Be And How It's Changed\n",
      "POLITICS\n",
      "How The Voting Rights Act Came To Be And How It's Changed\n",
      "I am not unmindful that some of you have come here out of great trials and tribulations. Some of you have come fresh from narrow jail cells. Some of you have come from areas where your quest for freedom left you battered by the storms of persecution and staggered by the winds of police brutality. You have been the veterans of creative suffering. Continue to work with the faith that unearned suffering is redemptive. Go back to Mississippi, go back to Alabama, go back to South Carolina, go back to Georgia, go back to Louisiana, go back to the slums and ghettos of our Northern cities, knowing that somehow this situation can and will be changed.\n",
      "\n",
      "Let us not wallow in the valley of despair, I say to you today, my friends.\n",
      "\n",
      "So even though we face the difficulties of today and tomorrow, I still have a dream. It is a dream deeply rooted in the American dream. I have a dream that one day this nation will rise up and live out the true meaning of its creed: We hold these truths to be self-evident, that all men are created equal.\n",
      "\n",
      "\n",
      "People clap and sing along to a freedom song between speeches at the March on Washington for Jobs and Freedom in 1963.\n",
      "Express Newspapers via Getty Images\n",
      "I have a dream that one day on the red hills of Georgia, the sons of former slaves and the sons of former slave owners will be able to sit down together at the table of brotherhood.\n",
      "\n",
      "I have a dream that one day even the state of Mississippi, a state sweltering with the heat of injustice, sweltering with the heat of oppression will be transformed into an oasis of freedom and justice.\n",
      "\n",
      "I have a dream that my four little children will one day live in a nation where they will not be judged by the color of their skin but by the content of their character. I have a dream today.\n",
      "\n",
      "I have a dream that one day down in Alabama with its vicious racists, with its governor having his lips dripping with the words of interposition and nullification, one day right down in Alabama little Black boys and Black girls will be able to join hands with little white boys and white girls as sisters and brothers. I have a dream today.\n",
      "\n",
      "I have a dream that one day every valley shall be exalted, every hill and mountain shall be made low, the rough places will be made plain, and the crooked places will be made straight, and the glory of the Lord shall be revealed, and all flesh shall see it together.\n",
      "\n",
      "\n",
      "This is our hope. This is the faith that I go back to the South with. With this faith, we will be able to hew out of the mountain of despair a stone of hope. With this faith we will be able to transform the jangling discords of our nation into a beautiful symphony of brotherhood. With this faith we will be able to work together, to pray together, to struggle together, to go to jail together, to stand up for freedom together, knowing that we will be free one day.\n",
      "\n",
      "This will be the day when all of God's children will be able to sing with new meaning: My country, 'tis of thee, sweet land of liberty, of thee I sing. Land where my fathers died, land of the pilgrims' pride, from every mountainside, let freedom ring.\n",
      "\n",
      "And if America is to be a great nation, this must become true. And so let freedom ring from the prodigious hilltops of New Hampshire. Let freedom ring from the mighty mountains of New York. Let freedom ring from the heightening Alleghenies of Pennsylvania. Let freedom ring from the snowcapped Rockies of Colorado. Let freedom ring from the curvaceous slopes of California. But not only that, let freedom ring from Stone Mountain of Georgia. Let freedom ring from Lookout Mountain of Tennessee. Let freedom ring from every hill and molehill of Mississippi. From every mountainside, let freedom ring.\n",
      "\n",
      "And when this happens, and when we allow freedom ring, when we let it ring from every village and every hamlet, from every state and every city, we will be able to speed up that day when all of God's children, Black men and white men, Jews and Gentiles, Protestants and Catholics, will be able to join hands and sing in the words of the old Negro spiritual: Free at last. Free at last. Thank God almighty, we are free at last.\n"
     ]
    }
   ],
   "source": [
    "#Lets load the file using python with operator\n",
    "with open('read.txt', 'r') as f:\n",
    "    text = f.read()\n",
    "print(text)"
   ]
  },
  {
   "cell_type": "code",
   "execution_count": 5,
   "id": "a4a17548-efff-4f30-805f-9b570c0ad536",
   "metadata": {
    "tags": []
   },
   "outputs": [
    {
     "name": "stdout",
     "output_type": "stream",
     "text": [
      "Five score years ago, a great American, in whose symbolic shadow we stand today, signed the Emancipation Proclamation. This momentous decree came as a great beacon light of hope to millions of Negro slaves who had been seared in the flames of withering injustice. It came as a joyous daybreak to end the long night of their captivity.\n",
      "\n",
      "But 100 years later, the Negro still is not free. One hundred years later, the life of the Negro is still sadly crippled by the manacles of segregation and the chains of discrimination. One hundred years later, the Negro lives on a lonely island of poverty in the midst of a vast ocean of material prosperity. One hundred years later the Negro is still languished in the corners of American society and finds himself in exile in his own land. And so we've come here today to dramatize a shameful condition. In a sense we've come to our nation's capital to cash a check.\n",
      "\n",
      "The Power Of Martin Luther King Jr.'s Anger\n",
      "CODE SWITCH\n",
      "The Power Of Martin Luther King Jr.'s Anger\n",
      "When the architects of our republic wrote the magnificent words of the Constitution and the Declaration of Independence, they were signing a promissory note to which every American was to fall heir. This note was a promise that all men — yes, Black men as well as white men — would be guaranteed the unalienable rights of life, liberty and the pursuit of happiness.\n",
      "\n",
      "It is obvious today that America has defaulted on this promissory note insofar as her citizens of color are concerned. Instead of honoring this sacred obligation, America has given the Negro people a bad check, a check which has come back marked insufficient funds.\n",
      "\n",
      "But we refuse to believe that the bank of justice is bankrupt.\n",
      "\n",
      "We refuse to believe that there are insufficient funds in the great vaults of opportunity of this nation. And so we've come to cash this check, a check that will give us upon demand the riches of freedom and the security of justice.\n",
      "\n",
      "We have also come to his hallowed spot to remind America of the fierce urgency of now. This is no time to engage in the luxury of cooling off or to take the tranquilizing drug of gradualism.\n",
      "\n",
      "\n",
      "Civil rights protesters march from the Washington Monument to the Lincoln Memorial for the March on Washington on Aug. 28, 1963.\n",
      "Kurt Severin/Three Lions/Hulton Archive/Getty Images\n",
      "Now is the time to make real the promises of democracy. Now is the time to rise from the dark and desolate valley of segregation to the sunlit path of racial justice. Now is the time to lift our nation from the quick sands of racial injustice to the solid rock of brotherhood. Now is the time to make justice a reality for all of God's children.\n",
      "\n",
      "It would be fatal for the nation to overlook the urgency of the moment. This sweltering summer of the Negro's legitimate discontent will not pass until there is an invigorating autumn of freedom and equality. 1963 is not an end, but a beginning. Those who hope that the Negro needed to blow off steam and will now be content will have a rude awakening if the nation returns to business as usual.\n",
      "\n",
      "There will be neither rest nor tranquility in America until the Negro is granted his citizenship rights. The whirlwinds of revolt will continue to shake the foundations of our nation until the bright day of justice emerges.\n",
      "\n",
      "But there is something that I must say to my people who stand on the warm threshold which leads into the palace of justice. In the process of gaining our rightful place, we must not be guilty of wrongful deeds. Let us not seek to satisfy our thirst for freedom by drinking from the cup of bitterness and hatred.\n",
      "\n",
      "Bayard Rustin: The Man Behind the March on Washington (2021) \n",
      "THROUGHLINE\n",
      "Bayard Rustin: The Man Behind the March on Washington (2021)\n",
      "We must forever conduct our struggle on the high plane of dignity and discipline. We must not allow our creative protest to degenerate into physical violence. Again and again, we must rise to the majestic heights of meeting physical force with soul force. The marvelous new militancy which has engulfed the Negro community must not lead us to a distrust of all white people, for many of our white brothers, as evidenced by their presence here today, have come to realize that their destiny is tied up with our destiny.\n",
      "\n",
      "And they have come to realize that their freedom is inextricably bound to our freedom. We cannot walk alone. And as we walk, we must make the pledge that we shall always march ahead. We cannot turn back.\n",
      "\n",
      "There are those who are asking the devotees of civil rights, when will you be satisfied? We can never be satisfied as long as the Negro is the victim of the unspeakable horrors of police brutality. We can never be satisfied as long as our bodies, heavy with the fatigue of travel, cannot gain lodging in the motels of the highways and the hotels of the cities.\n",
      "\n",
      "We cannot be satisfied as long as the Negro's basic mobility is from a smaller ghetto to a larger one. We can never be satisfied as long as our children are stripped of their selfhood and robbed of their dignity by signs stating: for whites only.\n",
      "\n",
      "We cannot be satisfied as long as a Negro in Mississippi cannot vote and a Negro in New York believes he has nothing for which to vote.\n",
      "\n",
      "No, no, we are not satisfied, and we will not be satisfied until justice rolls down like waters, and righteousness like a mighty stream.\n",
      "\n",
      "How The Voting Rights Act Came To Be And How It's Changed\n",
      "POLITICS\n",
      "How The Voting Rights Act Came To Be And How It's Changed\n",
      "I am not unmindful that some of you have come here out of great trials and tribulations. Some of you have come fresh from narrow jail cells. Some of you have come from areas where your quest for freedom left you battered by the storms of persecution and staggered by the winds of police brutality. You have been the veterans of creative suffering. Continue to work with the faith that unearned suffering is redemptive. Go back to Mississippi, go back to Alabama, go back to South Carolina, go back to Georgia, go back to Louisiana, go back to the slums and ghettos of our Northern cities, knowing that somehow this situation can and will be changed.\n",
      "\n",
      "Let us not wallow in the valley of despair, I say to you today, my friends.\n",
      "\n",
      "So even though we face the difficulties of today and tomorrow, I still have a dream. It is a dream deeply rooted in the American dream. I have a dream that one day this nation will rise up and live out the true meaning of its creed: We hold these truths to be self-evident, that all men are created equal.\n",
      "\n",
      "\n",
      "People clap and sing along to a freedom song between speeches at the March on Washington for Jobs and Freedom in 1963.\n",
      "Express Newspapers via Getty Images\n",
      "I have a dream that one day on the red hills of Georgia, the sons of former slaves and the sons of former slave owners will be able to sit down together at the table of brotherhood.\n",
      "\n",
      "I have a dream that one day even the state of Mississippi, a state sweltering with the heat of injustice, sweltering with the heat of oppression will be transformed into an oasis of freedom and justice.\n",
      "\n",
      "I have a dream that my four little children will one day live in a nation where they will not be judged by the color of their skin but by the content of their character. I have a dream today.\n",
      "\n",
      "I have a dream that one day down in Alabama with its vicious racists, with its governor having his lips dripping with the words of interposition and nullification, one day right down in Alabama little Black boys and Black girls will be able to join hands with little white boys and white girls as sisters and brothers. I have a dream today.\n",
      "\n",
      "I have a dream that one day every valley shall be exalted, every hill and mountain shall be made low, the rough places will be made plain, and the crooked places will be made straight, and the glory of the Lord shall be revealed, and all flesh shall see it together.\n",
      "\n",
      "\n",
      "This is our hope. This is the faith that I go back to the South with. With this faith, we will be able to hew out of the mountain of despair a stone of hope. With this faith we will be able to transform the jangling discords of our nation into a beautiful symphony of brotherhood. With this faith we will be able to work together, to pray together, to struggle together, to go to jail together, to stand up for freedom together, knowing that we will be free one day.\n",
      "\n",
      "This will be the day when all of God's children will be able to sing with new meaning: My country, 'tis of thee, sweet land of liberty, of thee I sing. Land where my fathers died, land of the pilgrims' pride, from every mountainside, let freedom ring.\n",
      "\n",
      "And if America is to be a great nation, this must become true. And so let freedom ring from the prodigious hilltops of New Hampshire. Let freedom ring from the mighty mountains of New York. Let freedom ring from the heightening Alleghenies of Pennsylvania. Let freedom ring from the snowcapped Rockies of Colorado. Let freedom ring from the curvaceous slopes of California. But not only that, let freedom ring from Stone Mountain of Georgia. Let freedom ring from Lookout Mountain of Tennessee. Let freedom ring from every hill and molehill of Mississippi. From every mountainside, let freedom ring.\n",
      "\n",
      "And when this happens, and when we allow freedom ring, when we let it ring from every village and every hamlet, from every state and every city, we will be able to speed up that day when all of God's children, Black men and white men, Jews and Gentiles, Protestants and Catholics, will be able to join hands and sing in the words of the old Negro spiritual: Free at last. Free at last. Thank God almighty, we are free at last.\n"
     ]
    }
   ],
   "source": [
    "# Creating a doc object\n",
    "\n",
    "doc = nlp(text)\n",
    "print(doc)"
   ]
  },
  {
   "cell_type": "markdown",
   "id": "fd24365a-8871-4327-a39a-dd588831788f",
   "metadata": {},
   "source": [
    "Although the doc object and the text seem almost simillar / identical on the surface\n",
    "the doc object has more attributes or meta data"
   ]
  },
  {
   "cell_type": "code",
   "execution_count": 6,
   "id": "fa0da1ae-4f33-4107-84d6-5f2346fd6726",
   "metadata": {
    "tags": []
   },
   "outputs": [
    {
     "name": "stdout",
     "output_type": "stream",
     "text": [
      "length of text =  9596\n",
      "length of doc object =  1978\n"
     ]
    }
   ],
   "source": [
    "# Lets check the length of both the objects\n",
    "print('length of text = ', len(text))\n",
    "print('length of doc object = ', len(doc))\n"
   ]
  },
  {
   "cell_type": "code",
   "execution_count": 7,
   "id": "dc1d16e0-2873-40e8-a514-c6ea1c175045",
   "metadata": {
    "tags": []
   },
   "outputs": [
    {
     "name": "stdout",
     "output_type": "stream",
     "text": [
      "F\n",
      "i\n",
      "v\n",
      "e\n",
      " \n",
      "Five\n",
      "score\n",
      "years\n",
      "ago\n",
      ",\n"
     ]
    }
   ],
   "source": [
    "# Lets check what the first 5 tokens are in a doc object and normal text\n",
    "\n",
    "for token in text[0:5]:\n",
    "    print(token)\n",
    "for token in doc[0:5]:\n",
    "    print(token)"
   ]
  },
  {
   "cell_type": "code",
   "execution_count": 8,
   "id": "7c96cf89-4885-46a1-9491-067e61a61f6f",
   "metadata": {
    "tags": []
   },
   "outputs": [
    {
     "name": "stdout",
     "output_type": "stream",
     "text": [
      "Five\n",
      "score\n",
      "years\n",
      "ago,\n",
      "a\n",
      "Five\n",
      "score\n",
      "years\n",
      "ago\n",
      ",\n"
     ]
    }
   ],
   "source": [
    "for token in text.split()[:5]:\n",
    "    print(token)\n",
    "for token in doc[:5]:\n",
    "    print(token)\n",
    "    "
   ]
  },
  {
   "cell_type": "markdown",
   "id": "d928586f-1adc-4804-8ab3-8fb44598ea65",
   "metadata": {},
   "source": [
    "As one can see spaCy has considered the ',' as a separate token\n",
    "while the split method hasnt.\n",
    "In many more ways spaCy provides better tokenization for NLP purposes than traditional split methods."
   ]
  },
  {
   "cell_type": "code",
   "execution_count": 21,
   "id": "2910631c-feb4-4e17-a6ce-db3b968f3224",
   "metadata": {
    "tags": []
   },
   "outputs": [
    {
     "name": "stdout",
     "output_type": "stream",
     "text": [
      "Five score years ago, a great American, in whose symbolic shadow we stand today, signed the Emancipation Proclamation.\n",
      "This momentous decree came as a great beacon light of hope to millions of Negro slaves who had been seared in the flames of withering injustice.\n",
      "It came as a joyous daybreak to end the long night of their captivity.\n",
      "\n",
      "\n",
      "But 100 years later, the Negro still is not free.\n",
      "One hundred years later, the life of the Negro is still sadly crippled by the manacles of segregation and the chains of discrimination.\n",
      "One hundred years later, the Negro lives on a lonely island of poverty in the midst of a vast ocean of material prosperity.\n",
      "One hundred years later the Negro is still languished in the corners of American society and finds himself in exile in his own land.\n",
      "And so we've come here today to dramatize a shameful condition.\n",
      "In a sense we've come to our nation's capital to cash a check.\n",
      "\n",
      "\n",
      "The Power Of Martin Luther King Jr.'s Anger\n",
      "CODE SWITCH\n",
      "The Power Of Martin Luther King Jr.'s Anger\n",
      "When the architects of our republic wrote the magnificent words of the Constitution and the Declaration of Independence, they were signing a promissory note to which every American was to fall heir.\n",
      "This note was a promise that all men â€” yes, Black men as well as white men â€” would be guaranteed the unalienable rights of life, liberty and the pursuit of happiness.\n",
      "\n",
      "\n",
      "It is obvious today that America has defaulted on this promissory note insofar as her citizens of color are concerned.\n",
      "Instead of honoring this sacred obligation, America has given the Negro people a bad check, a check which has come back marked insufficient funds.\n",
      "\n",
      "\n",
      "But we refuse to believe that the bank of justice is bankrupt.\n",
      "\n",
      "\n",
      "We refuse to believe that there are insufficient funds in the great vaults of opportunity of this nation.\n",
      "And so we've come to cash this check, a check that will give us upon demand the riches of freedom and the security of justice.\n",
      "\n",
      "\n",
      "We have also come to his hallowed spot to remind America of the fierce urgency of now.\n",
      "This is no time to engage in the luxury of cooling off or to take the tranquilizing drug of gradualism.\n",
      "\n",
      "\n",
      "\n",
      "Civil rights protesters march from the Washington Monument to the Lincoln Memorial for the March on Washington on Aug. 28, 1963.\n",
      "\n",
      "Kurt Severin/Three Lions/Hulton Archive/Getty Images\n",
      "Now is the time to make real the promises of democracy.\n",
      "Now is the time to rise from the dark and desolate valley of segregation to the sunlit path of racial justice.\n",
      "Now is the time to lift our nation from the quick sands of racial injustice to the solid rock of brotherhood.\n",
      "Now is the time to make justice a reality for all of God's children.\n",
      "\n",
      "\n",
      "It would be fatal for the nation to overlook the urgency of the moment.\n",
      "This sweltering summer of the Negro's legitimate discontent will not pass until there is an invigorating autumn of freedom and equality.\n",
      "1963 is not an end, but a beginning.\n",
      "Those who hope that the Negro needed to blow off steam and will now be content will have a rude awakening if the nation returns to business as usual.\n",
      "\n",
      "\n",
      "There will be neither rest nor tranquility in America until the Negro is granted his citizenship rights.\n",
      "The whirlwinds of revolt will continue to shake the foundations of our nation until the bright day of justice emerges.\n",
      "\n",
      "\n",
      "But there is something that I must say to my people who stand on the warm threshold which leads into the palace of justice.\n",
      "In the process of gaining our rightful place, we must not be guilty of wrongful deeds.\n",
      "Let us not seek to satisfy our thirst for freedom by drinking from the cup of bitterness and hatred.\n",
      "\n",
      "\n",
      "Bayard Rustin:\n",
      "The Man Behind the March on Washington (2021) \n",
      "THROUGHLINE\n",
      "Bayard Rustin: The Man Behind the March on Washington (2021)\n",
      "\n",
      "We must forever conduct our struggle on the high plane of dignity and discipline.\n",
      "We must not allow our creative protest to degenerate into physical violence.\n",
      "Again and again, we must rise to the majestic heights of meeting physical force with soul force.\n",
      "The marvelous new militancy which has engulfed the Negro community must not lead us to a distrust of all white people, for many of our white brothers, as evidenced by their presence here today, have come to realize that their destiny is tied up with our destiny.\n",
      "\n",
      "\n",
      "And they have come to realize that their freedom is inextricably bound to our freedom.\n",
      "We cannot walk alone.\n",
      "And as we walk, we must make the pledge that we shall always march ahead.\n",
      "We cannot turn back.\n",
      "\n",
      "\n",
      "There are those who are asking the devotees of civil rights, when will you be satisfied?\n",
      "We can never be satisfied as long as the Negro is the victim of the unspeakable horrors of police brutality.\n",
      "We can never be satisfied as long as our bodies, heavy with the fatigue of travel, cannot gain lodging in the motels of the highways and the hotels of the cities.\n",
      "\n",
      "\n",
      "We cannot be satisfied as long as the Negro's basic mobility is from a smaller ghetto to a larger one.\n",
      "We can never be satisfied as long as our children are stripped of their selfhood and robbed of their dignity by signs stating: for whites only.\n",
      "\n",
      "\n",
      "We cannot be satisfied as long as a Negro in Mississippi cannot vote and a Negro in New York believes he has nothing for which to vote.\n",
      "\n",
      "\n",
      "No, no, we are not satisfied, and we will not be satisfied until justice rolls down like waters, and righteousness like a mighty stream.\n",
      "\n",
      "\n",
      "How The Voting Rights Act Came To Be And How It's Changed\n",
      "POLITICS\n",
      "\n",
      "How The Voting Rights Act Came To Be And How It's Changed\n",
      "I am not unmindful that some of you have come here out of great trials and tribulations.\n",
      "Some of you have come fresh from narrow jail cells.\n",
      "Some of you have come from areas where your quest for freedom left you battered by the storms of persecution and staggered by the winds of police brutality.\n",
      "You have been the veterans of creative suffering.\n",
      "Continue to work with the faith that unearned suffering is redemptive.\n",
      "Go back to Mississippi, go back to Alabama, go back to South Carolina, go back to Georgia, go back to Louisiana, go back to the slums and ghettos of our Northern cities, knowing that somehow this situation can and will be changed.\n",
      "\n",
      "\n",
      "Let us not wallow in the valley of despair, I say to you today, my friends.\n",
      "\n",
      "\n",
      "So even though we face the difficulties of today and tomorrow, I still have a dream.\n",
      "It is a dream deeply rooted in the American dream.\n",
      "I have a dream that one day this nation will rise up and live out the true meaning of its creed: We hold these truths to be self-evident, that all men are created equal.\n",
      "\n",
      "\n",
      "\n",
      "People clap and sing along to a freedom song between speeches at the March on Washington for Jobs and Freedom in 1963.\n",
      "\n",
      "Express Newspapers via Getty Images\n",
      "I have a dream that one day on the red hills of Georgia, the sons of former slaves and the sons of former slave owners will be able to sit down together at the table of brotherhood.\n",
      "\n",
      "\n",
      "I have a dream that one day even the state of Mississippi, a state sweltering with the heat of injustice, sweltering with the heat of oppression will be transformed into an oasis of freedom and justice.\n",
      "\n",
      "\n",
      "I have a dream that my four little children will one day live in a nation where they will not be judged by the color of their skin but by the content of their character.\n",
      "I have a dream today.\n",
      "\n",
      "\n",
      "I have a dream that one day down in Alabama with its vicious racists, with its governor having his lips dripping with the words of interposition and nullification, one day right down in Alabama little Black boys and Black girls will be able to join hands with little white boys and white girls as sisters and brothers.\n",
      "I have a dream today.\n",
      "\n",
      "\n",
      "I have a dream that one day every valley shall be exalted, every hill and mountain shall be made low, the rough places will be made plain, and the crooked places will be made straight, and the glory of the Lord shall be revealed, and all flesh shall see it together.\n",
      "\n",
      "\n",
      "\n",
      "This is our hope.\n",
      "This is the faith that I go back to the South with.\n",
      "With this faith, we will be able to hew out of the mountain of despair a stone of hope.\n",
      "With this faith we will be able to transform the jangling discords of our nation into a beautiful symphony of brotherhood.\n",
      "With this faith we will be able to work together, to pray together, to struggle together, to go to jail together, to stand up for freedom together, knowing that we will be free one day.\n",
      "\n",
      "\n",
      "This will be the day when all of God's children will be able to sing with new meaning: My country, 'tis of thee, sweet land of liberty, of thee I sing.\n",
      "Land where my fathers died, land of the pilgrims' pride, from every mountainside, let freedom ring.\n",
      "\n",
      "\n",
      "And if America is to be a great nation, this must become true.\n",
      "And so let freedom ring from the prodigious hilltops of New Hampshire.\n",
      "Let freedom ring from the mighty mountains of New York.\n",
      "Let freedom ring from the heightening Alleghenies of Pennsylvania.\n",
      "Let freedom ring from the snowcapped Rockies of Colorado.\n",
      "Let freedom ring from the curvaceous slopes of California.\n",
      "But not only that, let freedom ring from Stone Mountain of Georgia.\n",
      "Let freedom ring from Lookout Mountain of Tennessee.\n",
      "Let freedom ring from every hill and molehill of Mississippi.\n",
      "From every mountainside, let freedom ring.\n",
      "\n",
      "\n",
      "And when this happens, and when we allow freedom ring, when we let it ring from every village and every hamlet, from every state and every city, we will be able to speed up that day when all of God's children, Black men and white men, Jews and Gentiles, Protestants and Catholics, will be able to join hands and sing in the words of the old Negro spiritual: Free at last.\n",
      "Free at last.\n",
      "Thank God almighty, we are free at last.\n"
     ]
    }
   ],
   "source": [
    "# Sentence boundary detection\n",
    "\n",
    "# Simply splitting by '.' (full stop) wont work as abbreviations like W.H.O \n",
    "#are commonly found in sentences\n",
    "# spaCy easily does this for you\n",
    "\n",
    "for sent in doc.sents:\n",
    "    print(sent)\n"
   ]
  },
  {
   "cell_type": "code",
   "execution_count": 22,
   "id": "793122dc-06e2-44ae-98b8-45aa4cd31d55",
   "metadata": {
    "tags": []
   },
   "outputs": [
    {
     "name": "stdout",
     "output_type": "stream",
     "text": [
      "Five score years ago, a great American, in whose symbolic shadow we stand today, signed the Emancipation Proclamation.\n"
     ]
    }
   ],
   "source": [
    "# Lets access  a sentence\n",
    "# As doc.sents are generator objects we have to convert them to lists first\n",
    "\n",
    "sentence1 = list(doc.sents)[0]\n",
    "print(sentence1)"
   ]
  },
  {
   "cell_type": "code",
   "execution_count": null,
   "id": "b995ef43-81fb-49bf-bb4d-8205d96893f3",
   "metadata": {},
   "outputs": [],
   "source": []
  }
 ],
 "metadata": {
  "kernelspec": {
   "display_name": "Python 3 (ipykernel)",
   "language": "python",
   "name": "python3"
  },
  "language_info": {
   "codemirror_mode": {
    "name": "ipython",
    "version": 3
   },
   "file_extension": ".py",
   "mimetype": "text/x-python",
   "name": "python",
   "nbconvert_exporter": "python",
   "pygments_lexer": "ipython3",
   "version": "3.11.3"
  }
 },
 "nbformat": 4,
 "nbformat_minor": 5
}
