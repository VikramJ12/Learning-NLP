{
 "cells": [
  {
   "cell_type": "code",
   "execution_count": 1,
   "id": "909cea9f",
   "metadata": {},
   "outputs": [],
   "source": [
    "import spacy\n",
    "nlp = spacy.load('en_core_web_sm')"
   ]
  },
  {
   "cell_type": "code",
   "execution_count": 3,
   "id": "9513fb48",
   "metadata": {},
   "outputs": [
    {
     "data": {
      "text/plain": [
       "[('tok2vec', <spacy.pipeline.tok2vec.Tok2Vec at 0x218d200fbf0>),\n",
       " ('tagger', <spacy.pipeline.tagger.Tagger at 0x218d21c0230>),\n",
       " ('parser', <spacy.pipeline.dep_parser.DependencyParser at 0x218d1ec3bc0>),\n",
       " ('senter', <spacy.pipeline.senter.SentenceRecognizer at 0x218d200ee70>),\n",
       " ('attribute_ruler',\n",
       "  <spacy.pipeline.attributeruler.AttributeRuler at 0x218d21e38d0>),\n",
       " ('lemmatizer', <spacy.lang.en.lemmatizer.EnglishLemmatizer at 0x218d16f3690>),\n",
       " ('ner', <spacy.pipeline.ner.EntityRecognizer at 0x218d1ec3ed0>)]"
      ]
     },
     "execution_count": 3,
     "metadata": {},
     "output_type": "execute_result"
    }
   ],
   "source": [
    "nlp.components\n"
   ]
  },
  {
   "cell_type": "code",
   "execution_count": 4,
   "id": "5897e5d9",
   "metadata": {},
   "outputs": [],
   "source": [
    "from spacytextblob.spacytextblob import SpacyTextBlob"
   ]
  },
  {
   "cell_type": "code",
   "execution_count": 5,
   "id": "f34d0ffd",
   "metadata": {},
   "outputs": [
    {
     "data": {
      "text/plain": [
       "<spacytextblob.spacytextblob.SpacyTextBlob at 0x218d5275610>"
      ]
     },
     "execution_count": 5,
     "metadata": {},
     "output_type": "execute_result"
    }
   ],
   "source": [
    "#Adding SpacyTextBlob to pipeline\n",
    "\n",
    "nlp.add_pipe(\"spacytextblob\")"
   ]
  },
  {
   "cell_type": "code",
   "execution_count": 6,
   "id": "140e7bf4",
   "metadata": {},
   "outputs": [
    {
     "data": {
      "text/plain": [
       "[('tok2vec', <spacy.pipeline.tok2vec.Tok2Vec at 0x218d200fbf0>),\n",
       " ('tagger', <spacy.pipeline.tagger.Tagger at 0x218d21c0230>),\n",
       " ('parser', <spacy.pipeline.dep_parser.DependencyParser at 0x218d1ec3bc0>),\n",
       " ('senter', <spacy.pipeline.senter.SentenceRecognizer at 0x218d200ee70>),\n",
       " ('attribute_ruler',\n",
       "  <spacy.pipeline.attributeruler.AttributeRuler at 0x218d21e38d0>),\n",
       " ('lemmatizer', <spacy.lang.en.lemmatizer.EnglishLemmatizer at 0x218d16f3690>),\n",
       " ('ner', <spacy.pipeline.ner.EntityRecognizer at 0x218d1ec3ed0>),\n",
       " ('spacytextblob',\n",
       "  <spacytextblob.spacytextblob.SpacyTextBlob at 0x218d5275610>)]"
      ]
     },
     "execution_count": 6,
     "metadata": {},
     "output_type": "execute_result"
    }
   ],
   "source": [
    "# Check our pipeline for SpacyTextBlob\n",
    "\n",
    "nlp.components"
   ]
  },
  {
   "cell_type": "code",
   "execution_count": 54,
   "id": "4275e2f9",
   "metadata": {},
   "outputs": [],
   "source": [
    "with open('read.txt', 'r') as f:\n",
    "    mytext = f.read()\n",
    "docx = nlp(mytext)"
   ]
  },
  {
   "cell_type": "code",
   "execution_count": 55,
   "id": "33e37424",
   "metadata": {},
   "outputs": [
    {
     "data": {
      "text/plain": [
       "0.11335448166969914"
      ]
     },
     "execution_count": 55,
     "metadata": {},
     "output_type": "execute_result"
    }
   ],
   "source": [
    "# Lets check the polarity\n",
    "docx._.polarity"
   ]
  },
  {
   "cell_type": "code",
   "execution_count": 56,
   "id": "42645b8d",
   "metadata": {},
   "outputs": [
    {
     "data": {
      "text/plain": [
       "[(['great'], 0.8, 0.75, None),\n",
       " (['american'], 0.0, 0.0, None),\n",
       " (['great'], 0.8, 0.75, None),\n",
       " (['light'], 0.4, 0.7, None),\n",
       " (['long'], -0.05, 0.4, None),\n",
       " (['later'], 0.0, 0.0, None),\n",
       " (['not', 'free'], -0.2, 0.8, None),\n",
       " (['later'], 0.0, 0.0, None),\n",
       " (['sadly'], -0.5, 1.0, None),\n",
       " (['later'], 0.0, 0.0, None),\n",
       " (['lonely'], -0.09999999999999998, 0.7, None),\n",
       " (['vast'], 0.0, 1.0, None),\n",
       " (['later'], 0.0, 0.0, None),\n",
       " (['american'], 0.0, 0.0, None),\n",
       " (['own'], 0.6, 1.0, None),\n",
       " (['anger'], -0.7, 0.2, None),\n",
       " (['anger'], -0.7, 0.2, None),\n",
       " (['magnificent'], 1.0, 1.0, None),\n",
       " (['american'], 0.0, 0.0, None),\n",
       " (['black'], -0.16666666666666666, 0.43333333333333335, None),\n",
       " (['white'], 0.0, 0.0, None),\n",
       " (['happiness'], 0.7, 0.2, None),\n",
       " (['obvious'], 0.0, 0.5, None),\n",
       " (['bad'], -0.6999999999999998, 0.6666666666666666, None),\n",
       " (['back'], 0.0, 0.0, None),\n",
       " (['marked'], 0.1, 0.6, None),\n",
       " (['great'], 0.8, 0.75, None),\n",
       " (['real'], 0.2, 0.30000000000000004, None),\n",
       " (['dark'], -0.15, 0.4, None),\n",
       " (['quick'], 0.3333333333333333, 0.5, None),\n",
       " (['solid'], 0.0, 0.1, None),\n",
       " (['rude'], -0.3, 0.6, None),\n",
       " (['usual'], -0.25, 0.25, None),\n",
       " (['bright'], 0.7000000000000001, 0.7999999999999999, None),\n",
       " (['warm'], 0.6, 0.6, None),\n",
       " (['guilty'], -0.5, 1.0, None),\n",
       " (['behind'], -0.4, 0.7, None),\n",
       " (['behind'], -0.4, 0.7, None),\n",
       " (['high'], 0.16, 0.5399999999999999, None),\n",
       " (['creative'], 0.5, 1.0, None),\n",
       " (['physical'], 0.0, 0.14285714285714285, None),\n",
       " (['physical'], 0.0, 0.14285714285714285, None),\n",
       " (['marvelous'], 1.0, 1.0, None),\n",
       " (['new'], 0.13636363636363635, 0.45454545454545453, None),\n",
       " (['white'], 0.0, 0.0, None),\n",
       " (['many'], 0.5, 0.5, None),\n",
       " (['white'], 0.0, 0.0, None),\n",
       " (['back'], 0.0, 0.0, None),\n",
       " (['satisfied'], 0.5, 1.0, None),\n",
       " (['satisfied'], 0.5, 1.0, None),\n",
       " (['long'], -0.05, 0.4, None),\n",
       " (['victim'], -0.07500000000000001, 0.05, None),\n",
       " (['satisfied'], 0.5, 1.0, None),\n",
       " (['long'], -0.05, 0.4, None),\n",
       " (['heavy'], -0.2, 0.5, None),\n",
       " (['satisfied'], 0.5, 1.0, None),\n",
       " (['long'], -0.05, 0.4, None),\n",
       " (['basic'], 0.0, 0.125, None),\n",
       " (['smaller'], 0.0, 0.5, None),\n",
       " (['larger'], 0.0, 0.5, None),\n",
       " (['satisfied'], 0.5, 1.0, None),\n",
       " (['long'], -0.05, 0.4, None),\n",
       " (['only'], 0.0, 1.0, None),\n",
       " (['satisfied'], 0.5, 1.0, None),\n",
       " (['long'], -0.05, 0.4, None),\n",
       " (['new'], 0.13636363636363635, 0.45454545454545453, None),\n",
       " (['not', 'satisfied'], -0.25, 1.0, None),\n",
       " (['satisfied'], 0.5, 1.0, None),\n",
       " (['down'], -0.15555555555555559, 0.2888888888888889, None),\n",
       " (['mighty'], 0.4, 0.9, None),\n",
       " (['great'], 0.8, 0.75, None),\n",
       " (['fresh'], 0.3, 0.5, None),\n",
       " (['narrow'], -0.2, 0.4, None),\n",
       " (['jail'], -0.1, 0.0, None),\n",
       " (['left'], 0.0, 0.0, None),\n",
       " (['creative'], 0.5, 1.0, None),\n",
       " (['back'], 0.0, 0.0, None),\n",
       " (['back'], 0.0, 0.0, None),\n",
       " (['back'], 0.0, 0.0, None),\n",
       " (['back'], 0.0, 0.0, None),\n",
       " (['back'], 0.0, 0.0, None),\n",
       " (['back'], 0.0, 0.0, None),\n",
       " (['deeply'], 0.0, 0.4, None),\n",
       " (['american'], 0.0, 0.0, None),\n",
       " (['live'], 0.13636363636363635, 0.5, None),\n",
       " (['true'], 0.35, 0.65, None),\n",
       " (['equal'], 0.0, 0.25, None),\n",
       " (['red'], 0.0, 0.0, None),\n",
       " (['former'], 0.0, 0.0, None),\n",
       " (['former'], 0.0, 0.0, None),\n",
       " (['able'], 0.5, 0.625, None),\n",
       " (['down'], -0.15555555555555559, 0.2888888888888889, None),\n",
       " (['little'], -0.1875, 0.5, None),\n",
       " (['live'], 0.13636363636363635, 0.5, None),\n",
       " (['down'], -0.15555555555555559, 0.2888888888888889, None),\n",
       " (['vicious'], -1.0, 1.0, None),\n",
       " (['right'], 0.2857142857142857, 0.5357142857142857, None),\n",
       " (['down'], -0.15555555555555559, 0.2888888888888889, None),\n",
       " (['little'], -0.1875, 0.5, None),\n",
       " (['black'], -0.16666666666666666, 0.43333333333333335, None),\n",
       " (['black'], -0.16666666666666666, 0.43333333333333335, None),\n",
       " (['able'], 0.5, 0.625, None),\n",
       " (['little'], -0.1875, 0.5, None),\n",
       " (['white'], 0.0, 0.0, None),\n",
       " (['white'], 0.0, 0.0, None),\n",
       " (['low'], 0.0, 0.3, None),\n",
       " (['rough'], -0.1, 0.4, None),\n",
       " (['plain'], -0.21428571428571427, 0.35714285714285715, None),\n",
       " (['crooked'], 0.0, 0.1, None),\n",
       " (['straight'], 0.2, 0.4, None),\n",
       " (['back'], 0.0, 0.0, None),\n",
       " (['able'], 0.5, 0.625, None),\n",
       " (['able'], 0.5, 0.625, None),\n",
       " (['beautiful'], 0.85, 1.0, None),\n",
       " (['able'], 0.5, 0.625, None),\n",
       " (['jail'], -0.1, 0.0, None),\n",
       " (['free'], 0.4, 0.8, None),\n",
       " (['able'], 0.5, 0.625, None),\n",
       " (['new'], 0.13636363636363635, 0.45454545454545453, None),\n",
       " (['sweet'], 0.35, 0.65, None),\n",
       " (['great'], 0.8, 0.75, None),\n",
       " (['true'], 0.35, 0.65, None),\n",
       " (['new'], 0.13636363636363635, 0.45454545454545453, None),\n",
       " (['mighty'], 0.4, 0.9, None),\n",
       " (['new'], 0.13636363636363635, 0.45454545454545453, None),\n",
       " (['not', 'only'], -0.0, 1.0, None),\n",
       " (['able'], 0.5, 0.625, None),\n",
       " (['black'], -0.16666666666666666, 0.43333333333333335, None),\n",
       " (['white'], 0.0, 0.0, None),\n",
       " (['able'], 0.5, 0.625, None),\n",
       " (['old'], 0.1, 0.2, None),\n",
       " (['spiritual'], 0.0, 0.13333333333333333, None),\n",
       " (['free'], 0.4, 0.8, None),\n",
       " (['last'], 0.0, 0.06666666666666667, None),\n",
       " (['free'], 0.4, 0.8, None),\n",
       " (['last'], 0.0, 0.06666666666666667, None),\n",
       " (['free'], 0.4, 0.8, None),\n",
       " (['last'], 0.0, 0.06666666666666667, None)]"
      ]
     },
     "execution_count": 56,
     "metadata": {},
     "output_type": "execute_result"
    }
   ],
   "source": [
    "#Lets also check the assesment\n",
    "docx._.assessments"
   ]
  },
  {
   "cell_type": "code",
   "execution_count": null,
   "id": "a82697f5",
   "metadata": {},
   "outputs": [],
   "source": []
  }
 ],
 "metadata": {
  "kernelspec": {
   "display_name": "Python 3 (ipykernel)",
   "language": "python",
   "name": "python3"
  },
  "language_info": {
   "codemirror_mode": {
    "name": "ipython",
    "version": 3
   },
   "file_extension": ".py",
   "mimetype": "text/x-python",
   "name": "python",
   "nbconvert_exporter": "python",
   "pygments_lexer": "ipython3",
   "version": "3.11.3"
  }
 },
 "nbformat": 4,
 "nbformat_minor": 5
}
