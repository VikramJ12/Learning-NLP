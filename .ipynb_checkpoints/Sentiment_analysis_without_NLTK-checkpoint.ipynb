{
 "cells": [
  {
   "cell_type": "code",
   "execution_count": null,
   "id": "338a4eca-3e70-4526-88e9-fba92edb55c7",
   "metadata": {},
   "outputs": [],
   "source": [
    "#Cleaning a text File\n",
    "# 1) Create text file and read it\n",
    "# 2) Convert the letter into lowercase letters\n",
    "# 3) Remove punctuations "
   ]
  },
  {
   "cell_type": "code",
   "execution_count": 43,
   "id": "057686be-9077-4092-b6e7-5f139987dbe9",
   "metadata": {
    "tags": []
   },
   "outputs": [],
   "source": [
    "import string\n",
    "from collections import Counter\n",
    "import matplotlib.pyplot as plt"
   ]
  },
  {
   "cell_type": "code",
   "execution_count": 62,
   "id": "c2a14797-617f-4700-9d60-377f62fca02d",
   "metadata": {
    "tags": []
   },
   "outputs": [],
   "source": [
    "text = open('read.txt', encoding = 'utf-8').read()\n",
    "#print(text)"
   ]
  },
  {
   "cell_type": "code",
   "execution_count": 63,
   "id": "fa516d9c-1cd1-4100-a6c3-bf2f5f07a93d",
   "metadata": {
    "tags": []
   },
   "outputs": [],
   "source": [
    "# We need to compare words for NLP; lowercase letters ensures all can be compared easily\n",
    "\n",
    "lower_case = text.lower()\n",
    "#print(lower_case)"
   ]
  },
  {
   "cell_type": "code",
   "execution_count": 64,
   "id": "ffea2cbf-b2b2-4f5c-9d2a-10253b05ff26",
   "metadata": {
    "tags": []
   },
   "outputs": [],
   "source": [
    "#Now we remove punctuations\n",
    "#we import string library as we need to remove punctuations\n",
    "#Lets see which punctuations we can remove using string library\n",
    "#print(string.punctuation)"
   ]
  },
  {
   "cell_type": "code",
   "execution_count": 65,
   "id": "282af13b-c73a-4dcc-96a1-9da60af14813",
   "metadata": {
    "tags": []
   },
   "outputs": [],
   "source": [
    "cleaned_text = lower_case.translate(str.maketrans('','',string.punctuation))\n",
    "#print(cleaned_text)"
   ]
  },
  {
   "cell_type": "code",
   "execution_count": 66,
   "id": "aa734be3-ac2a-4829-b1b9-3eed89603d50",
   "metadata": {
    "tags": []
   },
   "outputs": [],
   "source": [
    "# str.maketrans is a method which is used to replace / delete characters from strings\n",
    "#It takes 3 parameters text to be replaced, text to replace it with and text to be deleted\n",
    "#In our case we required use of only 3rd parameter "
   ]
  },
  {
   "cell_type": "code",
   "execution_count": 68,
   "id": "97cb6be0-db08-4c3e-9510-83ef2e1ee376",
   "metadata": {
    "tags": []
   },
   "outputs": [],
   "source": [
    "#Tokenization : A way to convert sentences into words\n",
    "\n",
    "tokenized_words = cleaned_text.split()\n",
    "#print(tokenized_words)"
   ]
  },
  {
   "cell_type": "code",
   "execution_count": 69,
   "id": "bddcee78-0962-4a23-b43e-9f7d8cad8b37",
   "metadata": {
    "tags": []
   },
   "outputs": [],
   "source": [
    "#Stop words : Words that do not have much meaning in the context of NLP\n",
    "#NLP can analyze even without removing stop words, but time will be wasted on these words\n",
    "#Eg: In our case 'I' does not add a lot of meaning hence it is a stop words.\n",
    "#Conjunctions like and, else etc are also stop words\n",
    "\n",
    "stop_words = [\"i\", \"me\", \"my\", \"myself\", \"we\", \"our\", \"ours\", \"ourselves\", \"you\", \"your\", \"yours\", \"yourself\",\n",
    "              \"yourselves\", \"he\", \"him\", \"his\", \"himself\", \"she\", \"her\", \"hers\", \"herself\", \"it\", \"its\", \"itself\",\n",
    "              \"they\", \"them\", \"their\", \"theirs\", \"themselves\", \"what\", \"which\", \"who\", \"whom\", \"this\", \"that\", \"these\",\n",
    "              \"those\", \"am\", \"is\", \"are\", \"was\", \"were\", \"be\", \"been\", \"being\", \"have\", \"has\", \"had\", \"having\", \"do\",\n",
    "              \"does\", \"did\", \"doing\", \"a\", \"an\", \"the\", \"and\", \"but\", \"if\", \"or\", \"because\", \"as\", \"until\", \"while\",\n",
    "              \"of\", \"at\", \"by\", \"for\", \"with\", \"about\", \"against\", \"between\", \"into\", \"through\", \"during\", \"before\",\n",
    "              \"after\", \"above\", \"below\", \"to\", \"from\", \"up\", \"down\", \"in\", \"out\", \"on\", \"off\", \"over\", \"under\", \"again\",\n",
    "              \"further\", \"then\", \"once\", \"here\", \"there\", \"when\", \"where\", \"why\", \"how\", \"all\", \"any\", \"both\", \"each\",\n",
    "              \"few\", \"more\", \"most\", \"other\", \"some\", \"such\", \"no\", \"nor\", \"not\", \"only\", \"own\", \"same\", \"so\", \"than\",\n",
    "              \"too\", \"very\", \"s\", \"t\", \"can\", \"will\", \"just\", \"don\", \"should\", \"now\"]\n",
    "\n",
    "# Now we remove stop words\n",
    "\n",
    "#First create an empty list\n",
    "final_words = []\n",
    "\n",
    "#Now we iterate through tokenized words to remove stop words\n",
    "for word in tokenized_words:\n",
    "    if word not in stop_words:\n",
    "        final_words.append(word)\n",
    "\n",
    "#print(final_words)\n"
   ]
  },
  {
   "cell_type": "code",
   "execution_count": 70,
   "id": "060b9de7-b270-42de-bc86-592e86353776",
   "metadata": {
    "tags": []
   },
   "outputs": [
    {
     "name": "stdout",
     "output_type": "stream",
     "text": [
      "['happy', 'attracted', 'sad', 'free', 'singledout', 'happy', 'alone', 'sad', 'attracted', 'happy', 'sad', 'alone', 'happy', 'singledout', 'sad']\n"
     ]
    }
   ],
   "source": [
    "# Now we analyze using emotions algorithm\n",
    "\n",
    "# NLP Emotion Algorithm\n",
    "# 1) Check if the word in the final word list is also present in emotion.txt\n",
    "#  - open the emotion file\n",
    "#  - Loop through each line and clear it\n",
    "#  - Extract the word and emotion using split\n",
    "\n",
    "# 2) If word is present -> Add the emotion to emotion_list\n",
    "# 3) Finally count each emotion in the emotion list\n",
    "emotion_list =[]\n",
    "file = open('emotions.txt', 'r')\n",
    "for line in file:\n",
    "    #we need to clean the file by replacing new line with nothing\n",
    "    # we need to remove commas, spaces and quotes as well\n",
    "    clear_line = line.replace('\\n', '').replace(',', '').replace(' ', '').replace(\"'\", '')\n",
    "    #print(clear_line)\n",
    "    \n",
    "    #Now we split emotion and words\n",
    "    word, emotion = clear_line.split(':')\n",
    "    #print(word)\n",
    "    \n",
    "    if word in final_words:\n",
    "      emotion_list.append(emotion)\n",
    "print(emotion_list)\n",
    "    "
   ]
  },
  {
   "cell_type": "code",
   "execution_count": 71,
   "id": "19f2e438-6a77-43ae-92a7-c9cf8846a182",
   "metadata": {
    "tags": []
   },
   "outputs": [
    {
     "name": "stdout",
     "output_type": "stream",
     "text": [
      "Counter({'happy': 4, 'sad': 4, 'attracted': 2, 'singledout': 2, 'alone': 2, 'free': 1})\n"
     ]
    }
   ],
   "source": [
    "#Now we count the emotions using Counter method from collections library\n",
    "\n",
    "emotion_count = Counter(emotion_list)\n",
    "print(emotion_count)"
   ]
  },
  {
   "cell_type": "code",
   "execution_count": 72,
   "id": "9765cdaf-60f1-4b85-83dc-a64f12cac31a",
   "metadata": {
    "tags": []
   },
   "outputs": [
    {
     "data": {
      "image/png": "[encoded data removed]",
      "text/plain": [
       "<Figure size 640x480 with 1 Axes>"
      ]
     },
     "metadata": {},
     "output_type": "display_data"
    }
   ],
   "source": [
    "# Now lets use matplotlib to plot the emotions in a graphical format\n",
    "\n",
    "#We are using subplots method to format the graph such that everything is easily visible\n",
    "fig, ax1 = plt.subplots()\n",
    "ax1.bar(emotion_count.keys(), emotion_count.values())\n",
    "#Below command will automatically adjust the graph formatting\n",
    "fig.autofmt_xdate()\n",
    "plt.savefig('graph.png')\n",
    "plt.show()"
   ]
  },
  {
   "cell_type": "code",
   "execution_count": null,
   "id": "0f31a5b1-d8fc-4cee-984d-9e0a4c43d742",
   "metadata": {},
   "outputs": [],
   "source": []
  }
 ],
 "metadata": {
  "kernelspec": {
   "display_name": "Python 3 (ipykernel)",
   "language": "python",
   "name": "python3"
  },
  "language_info": {
   "codemirror_mode": {
    "name": "ipython",
    "version": 3
   },
   "file_extension": ".py",
   "mimetype": "text/x-python",
   "name": "python",
   "nbconvert_exporter": "python",
   "pygments_lexer": "ipython3",
   "version": "3.11.3"
  }
 },
 "nbformat": 4,
 "nbformat_minor": 5
}
